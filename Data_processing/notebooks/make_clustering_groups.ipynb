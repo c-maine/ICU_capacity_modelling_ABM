{
 "cells": [
  {
   "cell_type": "markdown",
   "metadata": {},
   "source": [
    "Notes:\n",
    "- <b>clustering_data.csv</b> is created by taking train_test_validate_data and adding an extra column 'cluster_group'. The 'cluster_group' is filtered using the 'los_icu' column. (Each patient is only able to be in one cluster - they are distinct). This is important because this information is used to create the intime distribution into the ABM.\n",
    "\n",
    "    1. 'los_icu' <=0\n",
    "    2. 'los_icu' 1 - 7\n",
    "    3. 'los_icu' 8 - 24\n",
    "    4. 'los_icu' > 25\n",
    "    \n",
    "\n",
    "- the four csvs <b>'group1_df.csv', 'group2_df.csv', 'group3_df.csv', 'group4_df.csv'</b> are not distinct. They are created using filters that have come from clustering_exploration_v2.ipynb. Patients can be in more than one group - they are not distinct). \n",
    "This is because these groups are used to create los distributions, where we do not need the groups to be distinct. \n",
    "\n",
    "    we want patients in each group to have a few of the same characteristics because we think those are the most important features for determining which group for los they should be in. However, we also want to keep in patients with other information too, which is how we enrich the los that is given to a patient when they enter the ABM. \n"
   ]
  },
  {
   "cell_type": "code",
   "execution_count": 2,
   "metadata": {},
   "outputs": [],
   "source": [
    "import pandas as pd\n",
    "import numpy as np\n",
    "import matplotlib.pyplot as plt\n",
    "from category_encoders import TargetEncoder\n",
    "from category_encoders.cat_boost import CatBoostEncoder\n",
    "from sklearn import preprocessing\n",
    "from sklearn.model_selection import train_test_split\n",
    "from sklearn.ensemble import RandomForestRegressor\n",
    "from sklearn.metrics import r2_score, mean_squared_error\n",
    "import seaborn as sns\n",
    "import os"
   ]
  },
  {
   "cell_type": "code",
   "execution_count": 3,
   "metadata": {},
   "outputs": [
    {
     "name": "stderr",
     "output_type": "stream",
     "text": [
      "/usr/local/lib/python3.7/site-packages/IPython/core/interactiveshell.py:3020: DtypeWarning: Columns (13,16) have mixed types.Specify dtype option on import or set low_memory=False.\n",
      "  interactivity=interactivity, compiler=compiler, result=result)\n"
     ]
    }
   ],
   "source": [
    "#os.chdir('/Users/chloemaine/Documents/Chloe/BGSE/masters_project/processed_data')\n",
    "train_test_validate_data = pd.read_csv('../output_data/train_test_validate_data.csv')"
   ]
  },
  {
   "cell_type": "code",
   "execution_count": 91,
   "metadata": {},
   "outputs": [
    {
     "data": {
      "text/plain": [
       "array(['40.0-59.0', '60.0-79.0', '80-100', '0.0-19.0', '20.0-39.0',\n",
       "       'nan-nan'], dtype=object)"
      ]
     },
     "execution_count": 91,
     "metadata": {},
     "output_type": "execute_result"
    }
   ],
   "source": [
    "train_test_validate_data['age_group'].unique()"
   ]
  },
  {
   "cell_type": "code",
   "execution_count": 95,
   "metadata": {},
   "outputs": [
    {
     "data": {
      "text/plain": [
       "1.0     4344\n",
       "2.0     2658\n",
       "3.0     1375\n",
       "4.0      820\n",
       "5.0      502\n",
       "        ... \n",
       "59.0       1\n",
       "57.0       1\n",
       "76.0       1\n",
       "58.0       1\n",
       "62.0       1\n",
       "Name: los_icu, Length: 68, dtype: int64"
      ]
     },
     "execution_count": 95,
     "metadata": {},
     "output_type": "execute_result"
    }
   ],
   "source": [
    "train_test_validate_data[train_test_validate_data['age_group'] == '40.0-59.0']['los_icu'].value_counts()"
   ]
  },
  {
   "cell_type": "code",
   "execution_count": 94,
   "metadata": {},
   "outputs": [
    {
     "data": {
      "text/plain": [
       "1.0     1555\n",
       "2.0      851\n",
       "3.0      427\n",
       "4.0      217\n",
       "5.0      148\n",
       "0.0      134\n",
       "6.0       92\n",
       "7.0       77\n",
       "11.0      58\n",
       "9.0       38\n",
       "8.0       34\n",
       "10.0      33\n",
       "12.0      23\n",
       "15.0      23\n",
       "14.0      19\n",
       "13.0      18\n",
       "17.0      18\n",
       "16.0      16\n",
       "20.0      13\n",
       "21.0      11\n",
       "24.0       9\n",
       "23.0       8\n",
       "27.0       8\n",
       "32.0       7\n",
       "26.0       6\n",
       "22.0       6\n",
       "18.0       6\n",
       "19.0       5\n",
       "28.0       4\n",
       "31.0       4\n",
       "33.0       4\n",
       "37.0       4\n",
       "39.0       4\n",
       "40.0       3\n",
       "25.0       3\n",
       "29.0       2\n",
       "36.0       2\n",
       "34.0       2\n",
       "51.0       1\n",
       "49.0       1\n",
       "43.0       1\n",
       "79.0       1\n",
       "42.0       1\n",
       "77.0       1\n",
       "47.0       1\n",
       "60.0       1\n",
       "30.0       1\n",
       "38.0       1\n",
       "48.0       1\n",
       "83.0       1\n",
       "Name: los_icu, dtype: int64"
      ]
     },
     "execution_count": 94,
     "metadata": {},
     "output_type": "execute_result"
    }
   ],
   "source": [
    "train_test_validate_data[train_test_validate_data['age_group'] == '20.0-39.0']['los_icu'].value_counts()"
   ]
  },
  {
   "cell_type": "code",
   "execution_count": null,
   "metadata": {},
   "outputs": [],
   "source": []
  },
  {
   "cell_type": "code",
   "execution_count": null,
   "metadata": {},
   "outputs": [],
   "source": []
  },
  {
   "cell_type": "code",
   "execution_count": null,
   "metadata": {},
   "outputs": [],
   "source": []
  },
  {
   "cell_type": "code",
   "execution_count": 58,
   "metadata": {},
   "outputs": [
    {
     "data": {
      "text/plain": [
       "4.639160384451263"
      ]
     },
     "execution_count": 58,
     "metadata": {},
     "output_type": "execute_result"
    }
   ],
   "source": [
    "train_test_validate_data['los_icu'].mean()"
   ]
  },
  {
   "cell_type": "code",
   "execution_count": 59,
   "metadata": {},
   "outputs": [
    {
     "data": {
      "text/plain": [
       "2.0"
      ]
     },
     "execution_count": 59,
     "metadata": {},
     "output_type": "execute_result"
    }
   ],
   "source": [
    "train_test_validate_data['los_icu'].median()"
   ]
  },
  {
   "cell_type": "markdown",
   "metadata": {},
   "source": [
    "# Add column for group for cluster group. Needed for creating intime distribution (input to admission_priors.ipynb)\n",
    "\n",
    "#### Prepare data for model in same way as clustering_exploration.ipynb but now do not drop ideal_icu and FIRST_CAREUNIT\n",
    "\n",
    "We do not drop 'first_category' now because we will use it to create intime distributions. We dropped it in clustering_exploration because it was correlated with other diagnosis information that would affect the prediction model\n",
    "\n",
    "- start with 43 columns\n",
    "- end with 33 columns"
   ]
  },
  {
   "cell_type": "code",
   "execution_count": 60,
   "metadata": {},
   "outputs": [
    {
     "data": {
      "text/plain": [
       "True"
      ]
     },
     "execution_count": 60,
     "metadata": {},
     "output_type": "execute_result"
    }
   ],
   "source": [
    "train_test_validate_data['los_icu'].isnull().any()"
   ]
  },
  {
   "cell_type": "code",
   "execution_count": 61,
   "metadata": {},
   "outputs": [
    {
     "data": {
      "text/plain": [
       "772     NaN\n",
       "1023    NaN\n",
       "2681    NaN\n",
       "5304    NaN\n",
       "7578    NaN\n",
       "9487    NaN\n",
       "11528   NaN\n",
       "13153   NaN\n",
       "14804   NaN\n",
       "15646   NaN\n",
       "21088   NaN\n",
       "21156   NaN\n",
       "45327   NaN\n",
       "Name: los_icu, dtype: float64"
      ]
     },
     "execution_count": 61,
     "metadata": {},
     "output_type": "execute_result"
    }
   ],
   "source": [
    "#we have 11 NAN FOr los_icu which will be dropped when we make clusters\n",
    "train_test_validate_data[train_test_validate_data['los_icu'].isnull()]['los_icu']"
   ]
  },
  {
   "cell_type": "code",
   "execution_count": 62,
   "metadata": {},
   "outputs": [],
   "source": [
    "drop_cols = ['subject_id', 'hadm_id', 'icustay_id', 'admittime','dischtime', 'los_hospital' ,'dod', 'category', 'pregnancy complications','hospital_expire_flag']\n",
    "train_test_validate_data = train_test_validate_data.drop(drop_cols, axis=1)\n"
   ]
  },
  {
   "cell_type": "code",
   "execution_count": 63,
   "metadata": {},
   "outputs": [
    {
     "name": "stderr",
     "output_type": "stream",
     "text": [
      "/usr/local/lib/python3.7/site-packages/ipykernel_launcher.py:3: SettingWithCopyWarning: \n",
      "A value is trying to be set on a copy of a slice from a DataFrame.\n",
      "Try using .loc[row_indexer,col_indexer] = value instead\n",
      "\n",
      "See the caveats in the documentation: https://pandas.pydata.org/pandas-docs/stable/user_guide/indexing.html#returning-a-view-versus-a-copy\n",
      "  This is separate from the ipykernel package so we can avoid doing imports until\n",
      "/usr/local/lib/python3.7/site-packages/ipykernel_launcher.py:6: SettingWithCopyWarning: \n",
      "A value is trying to be set on a copy of a slice from a DataFrame.\n",
      "Try using .loc[row_indexer,col_indexer] = value instead\n",
      "\n",
      "See the caveats in the documentation: https://pandas.pydata.org/pandas-docs/stable/user_guide/indexing.html#returning-a-view-versus-a-copy\n",
      "  \n",
      "/usr/local/lib/python3.7/site-packages/ipykernel_launcher.py:9: SettingWithCopyWarning: \n",
      "A value is trying to be set on a copy of a slice from a DataFrame.\n",
      "Try using .loc[row_indexer,col_indexer] = value instead\n",
      "\n",
      "See the caveats in the documentation: https://pandas.pydata.org/pandas-docs/stable/user_guide/indexing.html#returning-a-view-versus-a-copy\n",
      "  if __name__ == '__main__':\n",
      "/usr/local/lib/python3.7/site-packages/ipykernel_launcher.py:12: SettingWithCopyWarning: \n",
      "A value is trying to be set on a copy of a slice from a DataFrame.\n",
      "Try using .loc[row_indexer,col_indexer] = value instead\n",
      "\n",
      "See the caveats in the documentation: https://pandas.pydata.org/pandas-docs/stable/user_guide/indexing.html#returning-a-view-versus-a-copy\n",
      "  if sys.path[0] == '':\n"
     ]
    }
   ],
   "source": [
    "#add column to train_test_validate_data with the cluster_number they are in\n",
    "cluster_1 = train_test_validate_data[train_test_validate_data['los_icu'] == 0]\n",
    "cluster_1['cluster_number'] = 1\n",
    "\n",
    "cluster_2 = train_test_validate_data[(train_test_validate_data['los_icu'] >=1) & (train_test_validate_data['los_icu'] <=7)]\n",
    "cluster_2['cluster_number'] = 2\n",
    "\n",
    "cluster_3 = train_test_validate_data[(train_test_validate_data['los_icu'] >=8) & (train_test_validate_data['los_icu'] <=24)]\n",
    "cluster_3['cluster_number'] = 3\n",
    "\n",
    "cluster_4 = train_test_validate_data[train_test_validate_data['los_icu'] >=25 ]\n",
    "cluster_4['cluster_number'] = 4\n",
    "\n",
    "\n",
    "clustered_data = pd.concat([cluster_1, cluster_2, cluster_3, cluster_4])\n",
    "\n"
   ]
  },
  {
   "cell_type": "code",
   "execution_count": 64,
   "metadata": {},
   "outputs": [
    {
     "name": "stdout",
     "output_type": "stream",
     "text": [
      "49213\n",
      "49226\n"
     ]
    }
   ],
   "source": [
    "#checks:\n",
    "print(len(cluster_1) + len(cluster_2) + len(cluster_3) + len(cluster_4) )\n",
    "print(len(train_test_validate_data))"
   ]
  },
  {
   "cell_type": "code",
   "execution_count": 67,
   "metadata": {},
   "outputs": [
    {
     "data": {
      "text/plain": [
       "'2003-03-01'"
      ]
     },
     "execution_count": 67,
     "metadata": {},
     "output_type": "execute_result"
    }
   ],
   "source": [
    "clustered_data.groupby('INTIME_COLLAPSED_day').count().index.max()\n",
    "clustered_data.groupby('INTIME_COLLAPSED_day').count().index.min()"
   ]
  },
  {
   "cell_type": "code",
   "execution_count": 73,
   "metadata": {},
   "outputs": [
    {
     "data": {
      "text/plain": [
       "datetime.timedelta(days=3591)"
      ]
     },
     "execution_count": 73,
     "metadata": {},
     "output_type": "execute_result"
    }
   ],
   "source": [
    "from datetime import datetime\n",
    "min_date = clustered_data.groupby('INTIME_COLLAPSED_day').count().index.min()\n",
    "min_date = datetime.strptime(min_date, '%Y-%m-%d').date()\n",
    "\n",
    "max_date = clustered_data.groupby('INTIME_COLLAPSED_day').count().index.max()\n",
    "max_date = datetime.strptime(max_date, '%Y-%m-%d').date()\n",
    "\n",
    "max_date - min_date"
   ]
  },
  {
   "cell_type": "code",
   "execution_count": 75,
   "metadata": {},
   "outputs": [
    {
     "data": {
      "text/plain": [
       "datetime.date(2012, 12, 29)"
      ]
     },
     "execution_count": 75,
     "metadata": {},
     "output_type": "execute_result"
    }
   ],
   "source": [
    "max_date"
   ]
  },
  {
   "cell_type": "code",
   "execution_count": null,
   "metadata": {},
   "outputs": [],
   "source": []
  },
  {
   "cell_type": "code",
   "execution_count": 76,
   "metadata": {},
   "outputs": [],
   "source": [
    "clustered_data.to_csv('clustered_data_for_priors.csv', index=False)\n"
   ]
  },
  {
   "cell_type": "markdown",
   "metadata": {},
   "source": [
    "# Make clusters/4 groups\n"
   ]
  },
  {
   "cell_type": "code",
   "execution_count": 272,
   "metadata": {},
   "outputs": [
    {
     "name": "stdout",
     "output_type": "stream",
     "text": [
      "0.06358428472758298\n",
      "0.7949254459025719\n",
      "0.11282655507252265\n",
      "0.028399626213789463\n"
     ]
    }
   ],
   "source": [
    "print(len(cluster_1)/len(train_test_validate_data)) #6%\n",
    "print(len(cluster_2)/len(train_test_validate_data)) #79%\n",
    "print(len(cluster_3)/len(train_test_validate_data)) #12%\n",
    "print(len(cluster_4)/len(train_test_validate_data)) #2%"
   ]
  },
  {
   "cell_type": "code",
   "execution_count": 273,
   "metadata": {},
   "outputs": [
    {
     "name": "stdout",
     "output_type": "stream",
     "text": [
      "0.0\n",
      "0.4054847201356069\n",
      "0.3151589745386694\n",
      "0.2793563053257237\n"
     ]
    }
   ],
   "source": [
    "print(cluster_1['los_icu'].sum()/ train_test_validate_data['los_icu'].sum() )\n",
    "print(cluster_2['los_icu'].sum()/ train_test_validate_data['los_icu'].sum() )\n",
    "print(cluster_3['los_icu'].sum()/ train_test_validate_data['los_icu'].sum() )\n",
    "\n",
    "\n",
    "#23% of all days are in cluster 4 even though only 2% of data is in there\n",
    "print(cluster_4['los_icu'].sum()/ train_test_validate_data['los_icu'].sum() )\n"
   ]
  },
  {
   "cell_type": "markdown",
   "metadata": {},
   "source": [
    "# Make clusters/ 4 groups (input into los_prediction_ideal_icu.ipynb)\n",
    "\n",
    "The groups have been chosen in a way where we expect there to be a distinct los between groups (discovery of these groups is in clustering_exploration.ipynb)\n",
    "\n",
    "We have found classification problems in the literature that try to classify these four groups\n",
    "\n",
    "#### Group 1 ( from clustering analysis, we expect los = 0)\n",
    "- age group 0-19\n",
    "- admission type = Newbown or emergency\n",
    "- perinatal > 0\n",
    "- sepsis = False\n",
    "\n",
    "\n",
    "\n",
    "#### Group 2: (we expect los between 1-7 days)\n",
    "- age group 40-59, 60-79, 80-100\n",
    "\n",
    "\n",
    "#### Group 3: (we expect los between 8-24 days)\n",
    "- respiratory > 0\n",
    "- diagnoses_count > =5\n",
    "- sepsis=True\n",
    "\n",
    "\n",
    "\n",
    "\n",
    "#### Group 4 : (we expect los >25 days)\n",
    "- congential > 0\n",
    "- age grcoup 0-19, 40-59, 60-79, 80-100\n",
    "- sepsis = True\n",
    "- Infectious parasitic > 0\n",
    "- Diagnoses count >=5\n",
    "\n",
    "\n",
    "\n",
    "#### Each group will have it's own los prediction model in los_prediction_clustering.ipynb "
   ]
  },
  {
   "cell_type": "code",
   "execution_count": null,
   "metadata": {},
   "outputs": [],
   "source": []
  },
  {
   "cell_type": "code",
   "execution_count": 274,
   "metadata": {},
   "outputs": [],
   "source": [
    "#group1\n",
    "\n",
    "group1_df = train_test_validate_data[(train_test_validate_data['diagnoses_count']<=4)&\n",
    "                                    ((train_test_validate_data['admission_type']=='NEWBORN') | (train_test_validate_data['admission_type']=='EMERGENCY')) &\n",
    "                                    (train_test_validate_data['sepsis']==False) & \n",
    "                                    (train_test_validate_data['age_group']=='0.0-19.0')&\n",
    "                                    (train_test_validate_data['perinatal']>0)]\n",
    "\n",
    "\n",
    "\n"
   ]
  },
  {
   "cell_type": "code",
   "execution_count": 275,
   "metadata": {},
   "outputs": [
    {
     "data": {
      "text/plain": [
       "0.0"
      ]
     },
     "execution_count": 275,
     "metadata": {},
     "output_type": "execute_result"
    }
   ],
   "source": [
    "group1_df['los_icu'].median()"
   ]
  },
  {
   "cell_type": "code",
   "execution_count": 276,
   "metadata": {},
   "outputs": [
    {
     "data": {
      "text/plain": [
       "0.665514261019879"
      ]
     },
     "execution_count": 276,
     "metadata": {},
     "output_type": "execute_result"
    }
   ],
   "source": [
    "group1_df['los_icu'].mean()"
   ]
  },
  {
   "cell_type": "code",
   "execution_count": 277,
   "metadata": {},
   "outputs": [],
   "source": [
    "#group 2 (average group)\n",
    "group2_df =train_test_validate_data[((train_test_validate_data['age_group'] == '40.0-59.0') | \n",
    "                                    (train_test_validate_data['age_group'] == '60.0-79.0') |\n",
    "                                    (train_test_validate_data['age_group'] == '80-100'))]"
   ]
  },
  {
   "cell_type": "code",
   "execution_count": 278,
   "metadata": {},
   "outputs": [
    {
     "data": {
      "text/plain": [
       "4.01221451104101"
      ]
     },
     "execution_count": 278,
     "metadata": {},
     "output_type": "execute_result"
    }
   ],
   "source": [
    "group2_df['los_icu'].mean()\n"
   ]
  },
  {
   "cell_type": "code",
   "execution_count": 279,
   "metadata": {},
   "outputs": [],
   "source": [
    "#group 3\n",
    "group3_df = train_test_validate_data[ (train_test_validate_data['diagnoses_count'] >=5) & \n",
    "                                    (train_test_validate_data['respiratory'] >0) & \n",
    "                                    (train_test_validate_data['sepsis'] ==True) &\n",
    "                                    (train_test_validate_data['congenital'] >0)  ]\n",
    "\n",
    "\n"
   ]
  },
  {
   "cell_type": "code",
   "execution_count": 280,
   "metadata": {},
   "outputs": [
    {
     "data": {
      "text/plain": [
       "14.608938547486034"
      ]
     },
     "execution_count": 280,
     "metadata": {},
     "output_type": "execute_result"
    }
   ],
   "source": [
    "group3_df['los_icu'].mean()"
   ]
  },
  {
   "cell_type": "code",
   "execution_count": 281,
   "metadata": {},
   "outputs": [
    {
     "data": {
      "text/plain": [
       "6.0"
      ]
     },
     "execution_count": 281,
     "metadata": {},
     "output_type": "execute_result"
    }
   ],
   "source": [
    "group3_df['los_icu'].median()"
   ]
  },
  {
   "cell_type": "code",
   "execution_count": 282,
   "metadata": {},
   "outputs": [],
   "source": [
    "group4_df = train_test_validate_data[((train_test_validate_data['age_group']=='0.0-19.0') | \n",
    "                                     (train_test_validate_data['age_group']=='60.0-79.0') |\n",
    "                                      (train_test_validate_data['age_group']=='80.0-10.0') |\n",
    "                                    (train_test_validate_data['age_group']=='40.0-59.0')) &\n",
    "                                    (train_test_validate_data['sepsis']==True) &\n",
    "                                    (train_test_validate_data['congenital']>0) &\n",
    "                                    (train_test_validate_data['infectious|parasitic']>0) & \n",
    "                                    (train_test_validate_data['diagnoses_count']>=5)] \n"
   ]
  },
  {
   "cell_type": "code",
   "execution_count": 283,
   "metadata": {},
   "outputs": [
    {
     "data": {
      "text/plain": [
       "31.987951807228917"
      ]
     },
     "execution_count": 283,
     "metadata": {},
     "output_type": "execute_result"
    }
   ],
   "source": [
    "group4_df['los_icu'].mean()"
   ]
  },
  {
   "cell_type": "code",
   "execution_count": null,
   "metadata": {},
   "outputs": [],
   "source": []
  },
  {
   "cell_type": "code",
   "execution_count": 284,
   "metadata": {},
   "outputs": [
    {
     "name": "stdout",
     "output_type": "stream",
     "text": [
      "mean los in group 1: 0.665514261019879\n",
      "mean los in group 2: 4.01221451104101\n",
      "mean los in group 3: 14.608938547486034\n",
      "mean los in group 4: 31.987951807228917\n"
     ]
    }
   ],
   "source": [
    "\n",
    "print('mean los in group 1:',group1_df['los_icu'].mean())\n",
    "print('mean los in group 2:',group2_df['los_icu'].mean())\n",
    "print('mean los in group 3:',group3_df['los_icu'].mean())\n",
    "print('mean los in group 4:', group4_df['los_icu'].mean())"
   ]
  },
  {
   "cell_type": "code",
   "execution_count": 285,
   "metadata": {},
   "outputs": [
    {
     "data": {
      "text/plain": [
       "42369"
      ]
     },
     "execution_count": 285,
     "metadata": {},
     "output_type": "execute_result"
    }
   ],
   "source": [
    "len(group1_df) + len(group2_df) + len(group3_df) + len(group4_df) "
   ]
  },
  {
   "cell_type": "code",
   "execution_count": 286,
   "metadata": {},
   "outputs": [
    {
     "data": {
      "text/plain": [
       "49226"
      ]
     },
     "execution_count": 286,
     "metadata": {},
     "output_type": "execute_result"
    }
   ],
   "source": [
    "len(train_test_validate_data)"
   ]
  },
  {
   "cell_type": "code",
   "execution_count": 287,
   "metadata": {},
   "outputs": [],
   "source": [
    "group1_df = group1_df.dropna() #drop 1 row\n",
    "group2_df = group2_df.dropna() #drop 1 row\n",
    "group3_df = group3_df.dropna() #drop 0 row\n",
    "group4_df = group4_df.dropna() #drop 0 row"
   ]
  },
  {
   "cell_type": "code",
   "execution_count": null,
   "metadata": {},
   "outputs": [],
   "source": []
  },
  {
   "cell_type": "code",
   "execution_count": null,
   "metadata": {},
   "outputs": [],
   "source": []
  },
  {
   "cell_type": "code",
   "execution_count": 288,
   "metadata": {},
   "outputs": [],
   "source": [
    "group1_df.to_csv('../output_data/group1_df.csv', index=False)\n",
    "group2_df.to_csv('../output_data/group2_df.csv', index=False)\n",
    "group3_df.to_csv('../output_data/group3_df.csv', index=False)\n",
    "group4_df.to_csv('../output_data/group4_df.csv', index=False)"
   ]
  },
  {
   "cell_type": "code",
   "execution_count": 292,
   "metadata": {},
   "outputs": [
    {
     "data": {
      "text/plain": [
       "2314"
      ]
     },
     "execution_count": 292,
     "metadata": {},
     "output_type": "execute_result"
    }
   ],
   "source": [
    "len(group1_df)"
   ]
  },
  {
   "cell_type": "code",
   "execution_count": 293,
   "metadata": {},
   "outputs": [
    {
     "data": {
      "text/plain": [
       "39625"
      ]
     },
     "execution_count": 293,
     "metadata": {},
     "output_type": "execute_result"
    }
   ],
   "source": [
    "len(group2_df)"
   ]
  },
  {
   "cell_type": "code",
   "execution_count": 294,
   "metadata": {},
   "outputs": [
    {
     "data": {
      "text/plain": [
       "179"
      ]
     },
     "execution_count": 294,
     "metadata": {},
     "output_type": "execute_result"
    }
   ],
   "source": [
    "len(group3_df)"
   ]
  },
  {
   "cell_type": "code",
   "execution_count": null,
   "metadata": {},
   "outputs": [],
   "source": []
  },
  {
   "cell_type": "code",
   "execution_count": null,
   "metadata": {},
   "outputs": [],
   "source": []
  }
 ],
 "metadata": {
  "kernelspec": {
   "display_name": "Python 3",
   "language": "python",
   "name": "python3"
  },
  "language_info": {
   "codemirror_mode": {
    "name": "ipython",
    "version": 3
   },
   "file_extension": ".py",
   "mimetype": "text/x-python",
   "name": "python",
   "nbconvert_exporter": "python",
   "pygments_lexer": "ipython3",
   "version": "3.7.2"
  }
 },
 "nbformat": 4,
 "nbformat_minor": 2
}
