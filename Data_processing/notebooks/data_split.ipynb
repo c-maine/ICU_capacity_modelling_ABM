{
 "cells": [
  {
   "cell_type": "markdown",
   "metadata": {},
   "source": [
    "# We split data into 3 groups for different use cases:\n",
    "- we will do 20% clustering, 80% train/test/validation\n",
    "\n",
    "we create 2 csvs\n",
    "- clustering_data.csv\n",
    "- train_test_validate_data.csv\n",
    "\n",
    "Output of this notebook will go into notebook:\n",
    "- clustering_exploration_v2.ipynb (in the same folder, data_processing)\n",
    "\n",
    "The groups found from clustering will go into 2 folders: ideal_icu and assigned_icu\n",
    "- los_prediction_ideal_icu.ipynb, los_prediction_assigned_icu.ipynb\n",
    "- priors_trueicu_ideal_icu.ipynb, priors_trueicu_assigned_icu.ipynb"
   ]
  },
  {
   "cell_type": "code",
   "execution_count": 2,
   "metadata": {},
   "outputs": [],
   "source": [
    "import pandas as pd\n",
    "import numpy as np\n",
    "from sklearn.model_selection import TimeSeriesSplit\n",
    "import os"
   ]
  },
  {
   "cell_type": "code",
   "execution_count": 3,
   "metadata": {},
   "outputs": [],
   "source": [
    "#os.chdir('/Users/chloemaine/Documents/Chloe/BGSE/masters_project/processed_data')"
   ]
  },
  {
   "cell_type": "code",
   "execution_count": 3,
   "metadata": {},
   "outputs": [
    {
     "name": "stderr",
     "output_type": "stream",
     "text": [
      "/usr/local/lib/python3.7/site-packages/IPython/core/interactiveshell.py:3020: DtypeWarning: Columns (12,15) have mixed types.Specify dtype option on import or set low_memory=False.\n",
      "  interactivity=interactivity, compiler=compiler, result=result)\n"
     ]
    }
   ],
   "source": [
    "data = pd.read_csv('../output_data/cleaned_data_ideal_and_assigned.csv')"
   ]
  },
  {
   "cell_type": "code",
   "execution_count": 23,
   "metadata": {},
   "outputs": [
    {
     "data": {
      "text/plain": [
       "61532"
      ]
     },
     "execution_count": 23,
     "metadata": {},
     "output_type": "execute_result"
    }
   ],
   "source": [
    "len(data)"
   ]
  },
  {
   "cell_type": "code",
   "execution_count": 64,
   "metadata": {},
   "outputs": [
    {
     "data": {
      "text/html": [
       "<div>\n",
       "<style scoped>\n",
       "    .dataframe tbody tr th:only-of-type {\n",
       "        vertical-align: middle;\n",
       "    }\n",
       "\n",
       "    .dataframe tbody tr th {\n",
       "        vertical-align: top;\n",
       "    }\n",
       "\n",
       "    .dataframe thead th {\n",
       "        text-align: right;\n",
       "    }\n",
       "</style>\n",
       "<table border=\"1\" class=\"dataframe\">\n",
       "  <thead>\n",
       "    <tr style=\"text-align: right;\">\n",
       "      <th></th>\n",
       "      <th>subject_id</th>\n",
       "      <th>hadm_id</th>\n",
       "      <th>icustay_id</th>\n",
       "      <th>gender</th>\n",
       "      <th>dod</th>\n",
       "      <th>admittime</th>\n",
       "      <th>dischtime</th>\n",
       "      <th>los_hospital</th>\n",
       "      <th>ethnicity_grouped</th>\n",
       "      <th>admission_type</th>\n",
       "      <th>...</th>\n",
       "      <th>unclassified</th>\n",
       "      <th>FIRST_CAREUNIT</th>\n",
       "      <th>INTIME</th>\n",
       "      <th>INTIME_COLLAPSED</th>\n",
       "      <th>OUTTIME_COLLAPSED</th>\n",
       "      <th>age_group</th>\n",
       "      <th>dod_exists</th>\n",
       "      <th>sepsis</th>\n",
       "      <th>diagnoses_count</th>\n",
       "      <th>ideal_ICU</th>\n",
       "    </tr>\n",
       "  </thead>\n",
       "  <tbody>\n",
       "    <tr>\n",
       "      <th>0</th>\n",
       "      <td>55973.0</td>\n",
       "      <td>152234.0</td>\n",
       "      <td>200001</td>\n",
       "      <td>F</td>\n",
       "      <td>2182-11-26 00:00:00</td>\n",
       "      <td>2181-11-18 16:04:00</td>\n",
       "      <td>2181-12-04 13:42:00</td>\n",
       "      <td>16.0</td>\n",
       "      <td>asian</td>\n",
       "      <td>EMERGENCY</td>\n",
       "      <td>...</td>\n",
       "      <td>2.0</td>\n",
       "      <td>MICU</td>\n",
       "      <td>2181-11-25 19:06:12</td>\n",
       "      <td>2011-09-04 19:06:12 UTC</td>\n",
       "      <td>2011-09-07 20:59:23 UTC</td>\n",
       "      <td>60.0-79.0</td>\n",
       "      <td>True</td>\n",
       "      <td>False</td>\n",
       "      <td>20.0</td>\n",
       "      <td>MICU</td>\n",
       "    </tr>\n",
       "    <tr>\n",
       "      <th>1</th>\n",
       "      <td>27513.0</td>\n",
       "      <td>163557.0</td>\n",
       "      <td>200003</td>\n",
       "      <td>M</td>\n",
       "      <td>2199-10-17 00:00:00</td>\n",
       "      <td>2199-08-02 17:02:00</td>\n",
       "      <td>2199-08-22 19:00:00</td>\n",
       "      <td>20.0</td>\n",
       "      <td>white</td>\n",
       "      <td>EMERGENCY</td>\n",
       "      <td>...</td>\n",
       "      <td>0.0</td>\n",
       "      <td>SICU</td>\n",
       "      <td>2199-08-02 19:50:04</td>\n",
       "      <td>2007-07-13 19:50:04 UTC</td>\n",
       "      <td>2007-07-19 17:09:21 UTC</td>\n",
       "      <td>40.0-59.0</td>\n",
       "      <td>True</td>\n",
       "      <td>True</td>\n",
       "      <td>6.0</td>\n",
       "      <td>SICU</td>\n",
       "    </tr>\n",
       "    <tr>\n",
       "      <th>2</th>\n",
       "      <td>10950.0</td>\n",
       "      <td>189514.0</td>\n",
       "      <td>200006</td>\n",
       "      <td>M</td>\n",
       "      <td>2160-05-14 00:00:00</td>\n",
       "      <td>2159-09-03 11:27:00</td>\n",
       "      <td>2159-09-05 18:45:00</td>\n",
       "      <td>2.0</td>\n",
       "      <td>other</td>\n",
       "      <td>EMERGENCY</td>\n",
       "      <td>...</td>\n",
       "      <td>1.0</td>\n",
       "      <td>MICU</td>\n",
       "      <td>2159-09-03 11:28:14</td>\n",
       "      <td>2004-11-22 11:28:14 UTC</td>\n",
       "      <td>2004-11-23 19:08:10 UTC</td>\n",
       "      <td>40.0-59.0</td>\n",
       "      <td>True</td>\n",
       "      <td>False</td>\n",
       "      <td>8.0</td>\n",
       "      <td>MICU</td>\n",
       "    </tr>\n",
       "    <tr>\n",
       "      <th>3</th>\n",
       "      <td>20707.0</td>\n",
       "      <td>129310.0</td>\n",
       "      <td>200007</td>\n",
       "      <td>M</td>\n",
       "      <td>NaN</td>\n",
       "      <td>2109-02-17 10:02:00</td>\n",
       "      <td>2109-02-20 15:47:00</td>\n",
       "      <td>3.0</td>\n",
       "      <td>white</td>\n",
       "      <td>EMERGENCY</td>\n",
       "      <td>...</td>\n",
       "      <td>1.0</td>\n",
       "      <td>CCU</td>\n",
       "      <td>2109-02-17 10:03:37</td>\n",
       "      <td>2001-07-22 10:03:37 UTC</td>\n",
       "      <td>2001-07-23 17:03:13 UTC</td>\n",
       "      <td>40.0-59.0</td>\n",
       "      <td>False</td>\n",
       "      <td>False</td>\n",
       "      <td>7.0</td>\n",
       "      <td>CCU</td>\n",
       "    </tr>\n",
       "    <tr>\n",
       "      <th>4</th>\n",
       "      <td>29904.0</td>\n",
       "      <td>129607.0</td>\n",
       "      <td>200009</td>\n",
       "      <td>F</td>\n",
       "      <td>NaN</td>\n",
       "      <td>2189-11-30 10:45:00</td>\n",
       "      <td>2189-12-06 15:00:00</td>\n",
       "      <td>6.0</td>\n",
       "      <td>white</td>\n",
       "      <td>ELECTIVE</td>\n",
       "      <td>...</td>\n",
       "      <td>1.0</td>\n",
       "      <td>CSRU</td>\n",
       "      <td>2189-11-30 10:34:32</td>\n",
       "      <td>2006-11-20 10:34:32 UTC</td>\n",
       "      <td>2006-11-22 14:17:35 UTC</td>\n",
       "      <td>40.0-59.0</td>\n",
       "      <td>False</td>\n",
       "      <td>False</td>\n",
       "      <td>6.0</td>\n",
       "      <td>CSRU</td>\n",
       "    </tr>\n",
       "    <tr>\n",
       "      <th>...</th>\n",
       "      <td>...</td>\n",
       "      <td>...</td>\n",
       "      <td>...</td>\n",
       "      <td>...</td>\n",
       "      <td>...</td>\n",
       "      <td>...</td>\n",
       "      <td>...</td>\n",
       "      <td>...</td>\n",
       "      <td>...</td>\n",
       "      <td>...</td>\n",
       "      <td>...</td>\n",
       "      <td>...</td>\n",
       "      <td>...</td>\n",
       "      <td>...</td>\n",
       "      <td>...</td>\n",
       "      <td>...</td>\n",
       "      <td>...</td>\n",
       "      <td>...</td>\n",
       "      <td>...</td>\n",
       "      <td>...</td>\n",
       "      <td>...</td>\n",
       "    </tr>\n",
       "    <tr>\n",
       "      <th>61527</th>\n",
       "      <td>13620.0</td>\n",
       "      <td>169431.0</td>\n",
       "      <td>299993</td>\n",
       "      <td>M</td>\n",
       "      <td>NaN</td>\n",
       "      <td>2149-11-13 21:00:00</td>\n",
       "      <td>2149-11-28 14:30:00</td>\n",
       "      <td>15.0</td>\n",
       "      <td>white</td>\n",
       "      <td>EMERGENCY</td>\n",
       "      <td>...</td>\n",
       "      <td>0.0</td>\n",
       "      <td>SICU</td>\n",
       "      <td>2149-11-13 21:01:05</td>\n",
       "      <td>2004-04-01 21:01:05 UTC</td>\n",
       "      <td>2004-04-04 16:57:26 UTC</td>\n",
       "      <td>20.0-39.0</td>\n",
       "      <td>False</td>\n",
       "      <td>False</td>\n",
       "      <td>2.0</td>\n",
       "      <td>SICU</td>\n",
       "    </tr>\n",
       "    <tr>\n",
       "      <th>61528</th>\n",
       "      <td>10718.0</td>\n",
       "      <td>177406.0</td>\n",
       "      <td>299994</td>\n",
       "      <td>F</td>\n",
       "      <td>NaN</td>\n",
       "      <td>2114-12-03 18:07:00</td>\n",
       "      <td>2114-12-26 16:15:00</td>\n",
       "      <td>23.0</td>\n",
       "      <td>white</td>\n",
       "      <td>EMERGENCY</td>\n",
       "      <td>...</td>\n",
       "      <td>0.0</td>\n",
       "      <td>SICU</td>\n",
       "      <td>2114-12-09 11:56:00</td>\n",
       "      <td>2001-12-09 11:56:00 UTC</td>\n",
       "      <td>2001-12-15 20:29:12 UTC</td>\n",
       "      <td>60.0-79.0</td>\n",
       "      <td>False</td>\n",
       "      <td>True</td>\n",
       "      <td>19.0</td>\n",
       "      <td>MICU</td>\n",
       "    </tr>\n",
       "    <tr>\n",
       "      <th>61529</th>\n",
       "      <td>28775.0</td>\n",
       "      <td>134959.0</td>\n",
       "      <td>299995</td>\n",
       "      <td>M</td>\n",
       "      <td>NaN</td>\n",
       "      <td>2116-03-04 17:43:00</td>\n",
       "      <td>2116-03-07 16:00:00</td>\n",
       "      <td>3.0</td>\n",
       "      <td>white</td>\n",
       "      <td>EMERGENCY</td>\n",
       "      <td>...</td>\n",
       "      <td>1.0</td>\n",
       "      <td>SICU</td>\n",
       "      <td>2116-03-04 17:44:39</td>\n",
       "      <td>2002-01-16 17:44:39 UTC</td>\n",
       "      <td>2002-01-18 18:03:56 UTC</td>\n",
       "      <td>20.0-39.0</td>\n",
       "      <td>False</td>\n",
       "      <td>False</td>\n",
       "      <td>5.0</td>\n",
       "      <td>MICU</td>\n",
       "    </tr>\n",
       "    <tr>\n",
       "      <th>61530</th>\n",
       "      <td>69587.0</td>\n",
       "      <td>158288.0</td>\n",
       "      <td>299998</td>\n",
       "      <td>M</td>\n",
       "      <td>2183-02-25 00:00:00</td>\n",
       "      <td>2181-07-05 07:15:00</td>\n",
       "      <td>2181-08-03 16:03:00</td>\n",
       "      <td>29.0</td>\n",
       "      <td>white</td>\n",
       "      <td>ELECTIVE</td>\n",
       "      <td>...</td>\n",
       "      <td>0.0</td>\n",
       "      <td>MICU</td>\n",
       "      <td>2181-07-05 18:47:40</td>\n",
       "      <td>2011-09-01 18:47:40 UTC</td>\n",
       "      <td>2011-09-03 17:24:34 UTC</td>\n",
       "      <td>80-100</td>\n",
       "      <td>True</td>\n",
       "      <td>True</td>\n",
       "      <td>13.0</td>\n",
       "      <td>MICU</td>\n",
       "    </tr>\n",
       "    <tr>\n",
       "      <th>61531</th>\n",
       "      <td>7630.0</td>\n",
       "      <td>129161.0</td>\n",
       "      <td>299999</td>\n",
       "      <td>M</td>\n",
       "      <td>NaN</td>\n",
       "      <td>2117-08-31 08:00:00</td>\n",
       "      <td>2117-09-04 13:20:00</td>\n",
       "      <td>4.0</td>\n",
       "      <td>white</td>\n",
       "      <td>ELECTIVE</td>\n",
       "      <td>...</td>\n",
       "      <td>0.0</td>\n",
       "      <td>CSRU</td>\n",
       "      <td>2117-08-31 09:33:11</td>\n",
       "      <td>2002-02-19 09:33:11 UTC</td>\n",
       "      <td>2002-02-20 16:42:00 UTC</td>\n",
       "      <td>40.0-59.0</td>\n",
       "      <td>False</td>\n",
       "      <td>False</td>\n",
       "      <td>2.0</td>\n",
       "      <td>CSRU</td>\n",
       "    </tr>\n",
       "  </tbody>\n",
       "</table>\n",
       "<p>61532 rows × 45 columns</p>\n",
       "</div>"
      ],
      "text/plain": [
       "       subject_id   hadm_id  icustay_id gender                  dod  \\\n",
       "0         55973.0  152234.0      200001      F  2182-11-26 00:00:00   \n",
       "1         27513.0  163557.0      200003      M  2199-10-17 00:00:00   \n",
       "2         10950.0  189514.0      200006      M  2160-05-14 00:00:00   \n",
       "3         20707.0  129310.0      200007      M                  NaN   \n",
       "4         29904.0  129607.0      200009      F                  NaN   \n",
       "...           ...       ...         ...    ...                  ...   \n",
       "61527     13620.0  169431.0      299993      M                  NaN   \n",
       "61528     10718.0  177406.0      299994      F                  NaN   \n",
       "61529     28775.0  134959.0      299995      M                  NaN   \n",
       "61530     69587.0  158288.0      299998      M  2183-02-25 00:00:00   \n",
       "61531      7630.0  129161.0      299999      M                  NaN   \n",
       "\n",
       "                 admittime            dischtime  los_hospital  \\\n",
       "0      2181-11-18 16:04:00  2181-12-04 13:42:00          16.0   \n",
       "1      2199-08-02 17:02:00  2199-08-22 19:00:00          20.0   \n",
       "2      2159-09-03 11:27:00  2159-09-05 18:45:00           2.0   \n",
       "3      2109-02-17 10:02:00  2109-02-20 15:47:00           3.0   \n",
       "4      2189-11-30 10:45:00  2189-12-06 15:00:00           6.0   \n",
       "...                    ...                  ...           ...   \n",
       "61527  2149-11-13 21:00:00  2149-11-28 14:30:00          15.0   \n",
       "61528  2114-12-03 18:07:00  2114-12-26 16:15:00          23.0   \n",
       "61529  2116-03-04 17:43:00  2116-03-07 16:00:00           3.0   \n",
       "61530  2181-07-05 07:15:00  2181-08-03 16:03:00          29.0   \n",
       "61531  2117-08-31 08:00:00  2117-09-04 13:20:00           4.0   \n",
       "\n",
       "      ethnicity_grouped admission_type  ...  unclassified  FIRST_CAREUNIT  \\\n",
       "0                 asian      EMERGENCY  ...           2.0            MICU   \n",
       "1                 white      EMERGENCY  ...           0.0            SICU   \n",
       "2                 other      EMERGENCY  ...           1.0            MICU   \n",
       "3                 white      EMERGENCY  ...           1.0             CCU   \n",
       "4                 white       ELECTIVE  ...           1.0            CSRU   \n",
       "...                 ...            ...  ...           ...             ...   \n",
       "61527             white      EMERGENCY  ...           0.0            SICU   \n",
       "61528             white      EMERGENCY  ...           0.0            SICU   \n",
       "61529             white      EMERGENCY  ...           1.0            SICU   \n",
       "61530             white       ELECTIVE  ...           0.0            MICU   \n",
       "61531             white       ELECTIVE  ...           0.0            CSRU   \n",
       "\n",
       "                    INTIME         INTIME_COLLAPSED        OUTTIME_COLLAPSED  \\\n",
       "0      2181-11-25 19:06:12  2011-09-04 19:06:12 UTC  2011-09-07 20:59:23 UTC   \n",
       "1      2199-08-02 19:50:04  2007-07-13 19:50:04 UTC  2007-07-19 17:09:21 UTC   \n",
       "2      2159-09-03 11:28:14  2004-11-22 11:28:14 UTC  2004-11-23 19:08:10 UTC   \n",
       "3      2109-02-17 10:03:37  2001-07-22 10:03:37 UTC  2001-07-23 17:03:13 UTC   \n",
       "4      2189-11-30 10:34:32  2006-11-20 10:34:32 UTC  2006-11-22 14:17:35 UTC   \n",
       "...                    ...                      ...                      ...   \n",
       "61527  2149-11-13 21:01:05  2004-04-01 21:01:05 UTC  2004-04-04 16:57:26 UTC   \n",
       "61528  2114-12-09 11:56:00  2001-12-09 11:56:00 UTC  2001-12-15 20:29:12 UTC   \n",
       "61529  2116-03-04 17:44:39  2002-01-16 17:44:39 UTC  2002-01-18 18:03:56 UTC   \n",
       "61530  2181-07-05 18:47:40  2011-09-01 18:47:40 UTC  2011-09-03 17:24:34 UTC   \n",
       "61531  2117-08-31 09:33:11  2002-02-19 09:33:11 UTC  2002-02-20 16:42:00 UTC   \n",
       "\n",
       "       age_group dod_exists sepsis  diagnoses_count  ideal_ICU  \n",
       "0      60.0-79.0       True  False             20.0       MICU  \n",
       "1      40.0-59.0       True   True              6.0       SICU  \n",
       "2      40.0-59.0       True  False              8.0       MICU  \n",
       "3      40.0-59.0      False  False              7.0        CCU  \n",
       "4      40.0-59.0      False  False              6.0       CSRU  \n",
       "...          ...        ...    ...              ...        ...  \n",
       "61527  20.0-39.0      False  False              2.0       SICU  \n",
       "61528  60.0-79.0      False   True             19.0       MICU  \n",
       "61529  20.0-39.0      False  False              5.0       MICU  \n",
       "61530     80-100       True   True             13.0       MICU  \n",
       "61531  40.0-59.0      False  False              2.0       CSRU  \n",
       "\n",
       "[61532 rows x 45 columns]"
      ]
     },
     "execution_count": 64,
     "metadata": {},
     "output_type": "execute_result"
    }
   ],
   "source": [
    "data"
   ]
  },
  {
   "cell_type": "code",
   "execution_count": 24,
   "metadata": {},
   "outputs": [],
   "source": [
    "data = data.rename(columns={\"INTIME_COLLAPSEDic_\": \"INTIME_COLLAPSED\", 'OUTTIME_COLLAPSEDic_' : 'OUTTIME_COLLAPSED'})\n"
   ]
  },
  {
   "cell_type": "code",
   "execution_count": 56,
   "metadata": {},
   "outputs": [
    {
     "data": {
      "text/html": [
       "<div>\n",
       "<style scoped>\n",
       "    .dataframe tbody tr th:only-of-type {\n",
       "        vertical-align: middle;\n",
       "    }\n",
       "\n",
       "    .dataframe tbody tr th {\n",
       "        vertical-align: top;\n",
       "    }\n",
       "\n",
       "    .dataframe thead th {\n",
       "        text-align: right;\n",
       "    }\n",
       "</style>\n",
       "<table border=\"1\" class=\"dataframe\">\n",
       "  <thead>\n",
       "    <tr style=\"text-align: right;\">\n",
       "      <th></th>\n",
       "      <th>los_icu</th>\n",
       "    </tr>\n",
       "  </thead>\n",
       "  <tbody>\n",
       "    <tr>\n",
       "      <th>0.0</th>\n",
       "      <td>0.421482</td>\n",
       "    </tr>\n",
       "    <tr>\n",
       "      <th>1.0</th>\n",
       "      <td>0.140824</td>\n",
       "    </tr>\n",
       "    <tr>\n",
       "      <th>2.0</th>\n",
       "      <td>0.044301</td>\n",
       "    </tr>\n",
       "    <tr>\n",
       "      <th>3.0</th>\n",
       "      <td>0.022151</td>\n",
       "    </tr>\n",
       "    <tr>\n",
       "      <th>4.0</th>\n",
       "      <td>0.018438</td>\n",
       "    </tr>\n",
       "    <tr>\n",
       "      <th>...</th>\n",
       "      <td>...</td>\n",
       "    </tr>\n",
       "    <tr>\n",
       "      <th>149.0</th>\n",
       "      <td>0.000124</td>\n",
       "    </tr>\n",
       "    <tr>\n",
       "      <th>151.0</th>\n",
       "      <td>0.000247</td>\n",
       "    </tr>\n",
       "    <tr>\n",
       "      <th>167.0</th>\n",
       "      <td>0.000124</td>\n",
       "    </tr>\n",
       "    <tr>\n",
       "      <th>169.0</th>\n",
       "      <td>0.000124</td>\n",
       "    </tr>\n",
       "    <tr>\n",
       "      <th>172.0</th>\n",
       "      <td>0.000124</td>\n",
       "    </tr>\n",
       "  </tbody>\n",
       "</table>\n",
       "<p>144 rows × 1 columns</p>\n",
       "</div>"
      ],
      "text/plain": [
       "        los_icu\n",
       "0.0    0.421482\n",
       "1.0    0.140824\n",
       "2.0    0.044301\n",
       "3.0    0.022151\n",
       "4.0    0.018438\n",
       "...         ...\n",
       "149.0  0.000124\n",
       "151.0  0.000247\n",
       "167.0  0.000124\n",
       "169.0  0.000124\n",
       "172.0  0.000124\n",
       "\n",
       "[144 rows x 1 columns]"
      ]
     },
     "execution_count": 56,
     "metadata": {},
     "output_type": "execute_result"
    }
   ],
   "source": [
    "pd.DataFrame(data[data['ideal_ICU']=='NICU']['los_icu'].value_counts()/len(data[data['ideal_ICU']=='NICU'])).sort_index()\n",
    "\n",
    "\n"
   ]
  },
  {
   "cell_type": "code",
   "execution_count": null,
   "metadata": {},
   "outputs": [],
   "source": []
  },
  {
   "cell_type": "code",
   "execution_count": 25,
   "metadata": {},
   "outputs": [
    {
     "data": {
      "text/plain": [
       "array(['60.0-79.0', '40.0-59.0', '20.0-39.0', '80-100', '0.0-19.0',\n",
       "       'nan-nan'], dtype=object)"
      ]
     },
     "execution_count": 25,
     "metadata": {},
     "output_type": "execute_result"
    }
   ],
   "source": [
    "data['age_group'].unique()"
   ]
  },
  {
   "cell_type": "code",
   "execution_count": 46,
   "metadata": {},
   "outputs": [
    {
     "data": {
      "text/plain": [
       "14684"
      ]
     },
     "execution_count": 46,
     "metadata": {},
     "output_type": "execute_result"
    }
   ],
   "source": [
    "len(data[data['age_group'] =='40.0-59.0'])"
   ]
  },
  {
   "cell_type": "code",
   "execution_count": 58,
   "metadata": {},
   "outputs": [
    {
     "data": {
      "text/html": [
       "<div>\n",
       "<style scoped>\n",
       "    .dataframe tbody tr th:only-of-type {\n",
       "        vertical-align: middle;\n",
       "    }\n",
       "\n",
       "    .dataframe tbody tr th {\n",
       "        vertical-align: top;\n",
       "    }\n",
       "\n",
       "    .dataframe thead th {\n",
       "        text-align: right;\n",
       "    }\n",
       "</style>\n",
       "<table border=\"1\" class=\"dataframe\">\n",
       "  <thead>\n",
       "    <tr style=\"text-align: right;\">\n",
       "      <th></th>\n",
       "      <th>los_icu</th>\n",
       "    </tr>\n",
       "  </thead>\n",
       "  <tbody>\n",
       "    <tr>\n",
       "      <th>1.0</th>\n",
       "      <td>5200</td>\n",
       "    </tr>\n",
       "    <tr>\n",
       "      <th>2.0</th>\n",
       "      <td>3265</td>\n",
       "    </tr>\n",
       "    <tr>\n",
       "      <th>3.0</th>\n",
       "      <td>1739</td>\n",
       "    </tr>\n",
       "    <tr>\n",
       "      <th>4.0</th>\n",
       "      <td>983</td>\n",
       "    </tr>\n",
       "    <tr>\n",
       "      <th>5.0</th>\n",
       "      <td>602</td>\n",
       "    </tr>\n",
       "    <tr>\n",
       "      <th>...</th>\n",
       "      <td>...</td>\n",
       "    </tr>\n",
       "    <tr>\n",
       "      <th>77.0</th>\n",
       "      <td>1</td>\n",
       "    </tr>\n",
       "    <tr>\n",
       "      <th>154.0</th>\n",
       "      <td>1</td>\n",
       "    </tr>\n",
       "    <tr>\n",
       "      <th>53.0</th>\n",
       "      <td>1</td>\n",
       "    </tr>\n",
       "    <tr>\n",
       "      <th>62.0</th>\n",
       "      <td>1</td>\n",
       "    </tr>\n",
       "    <tr>\n",
       "      <th>57.0</th>\n",
       "      <td>1</td>\n",
       "    </tr>\n",
       "  </tbody>\n",
       "</table>\n",
       "<p>74 rows × 1 columns</p>\n",
       "</div>"
      ],
      "text/plain": [
       "       los_icu\n",
       "1.0       5200\n",
       "2.0       3265\n",
       "3.0       1739\n",
       "4.0        983\n",
       "5.0        602\n",
       "...        ...\n",
       "77.0         1\n",
       "154.0        1\n",
       "53.0         1\n",
       "62.0         1\n",
       "57.0         1\n",
       "\n",
       "[74 rows x 1 columns]"
      ]
     },
     "execution_count": 58,
     "metadata": {},
     "output_type": "execute_result"
    }
   ],
   "source": [
    "pd.DataFrame(data[data['age_group'] =='40.0-59.0']['los_icu'].value_counts())\n",
    "\n"
   ]
  },
  {
   "cell_type": "code",
   "execution_count": 60,
   "metadata": {},
   "outputs": [
    {
     "data": {
      "text/html": [
       "<div>\n",
       "<style scoped>\n",
       "    .dataframe tbody tr th:only-of-type {\n",
       "        vertical-align: middle;\n",
       "    }\n",
       "\n",
       "    .dataframe tbody tr th {\n",
       "        vertical-align: top;\n",
       "    }\n",
       "\n",
       "    .dataframe thead th {\n",
       "        text-align: right;\n",
       "    }\n",
       "</style>\n",
       "<table border=\"1\" class=\"dataframe\">\n",
       "  <thead>\n",
       "    <tr style=\"text-align: right;\">\n",
       "      <th></th>\n",
       "      <th>los_icu</th>\n",
       "    </tr>\n",
       "  </thead>\n",
       "  <tbody>\n",
       "    <tr>\n",
       "      <th>0.0</th>\n",
       "      <td>0.047868</td>\n",
       "    </tr>\n",
       "    <tr>\n",
       "      <th>1.0</th>\n",
       "      <td>0.855090</td>\n",
       "    </tr>\n",
       "    <tr>\n",
       "      <th>2.0</th>\n",
       "      <td>0.558380</td>\n",
       "    </tr>\n",
       "    <tr>\n",
       "      <th>3.0</th>\n",
       "      <td>0.336976</td>\n",
       "    </tr>\n",
       "    <tr>\n",
       "      <th>4.0</th>\n",
       "      <td>0.192778</td>\n",
       "    </tr>\n",
       "    <tr>\n",
       "      <th>...</th>\n",
       "      <td>...</td>\n",
       "    </tr>\n",
       "    <tr>\n",
       "      <th>97.0</th>\n",
       "      <td>0.000119</td>\n",
       "    </tr>\n",
       "    <tr>\n",
       "      <th>98.0</th>\n",
       "      <td>0.000119</td>\n",
       "    </tr>\n",
       "    <tr>\n",
       "      <th>99.0</th>\n",
       "      <td>0.000119</td>\n",
       "    </tr>\n",
       "    <tr>\n",
       "      <th>102.0</th>\n",
       "      <td>0.000119</td>\n",
       "    </tr>\n",
       "    <tr>\n",
       "      <th>173.0</th>\n",
       "      <td>0.000119</td>\n",
       "    </tr>\n",
       "  </tbody>\n",
       "</table>\n",
       "<p>77 rows × 1 columns</p>\n",
       "</div>"
      ],
      "text/plain": [
       "        los_icu\n",
       "0.0    0.047868\n",
       "1.0    0.855090\n",
       "2.0    0.558380\n",
       "3.0    0.336976\n",
       "4.0    0.192778\n",
       "...         ...\n",
       "97.0   0.000119\n",
       "98.0   0.000119\n",
       "99.0   0.000119\n",
       "102.0  0.000119\n",
       "173.0  0.000119\n",
       "\n",
       "[77 rows x 1 columns]"
      ]
     },
     "execution_count": 60,
     "metadata": {},
     "output_type": "execute_result"
    }
   ],
   "source": [
    "pd.DataFrame(data[data['age_group'] =='60.0-79.0']['los_icu'].value_counts()/len(data[data['age_group'] =='0.0-19.0'])).sort_index()\n",
    "\n",
    "\n"
   ]
  },
  {
   "cell_type": "code",
   "execution_count": null,
   "metadata": {},
   "outputs": [],
   "source": []
  },
  {
   "cell_type": "code",
   "execution_count": null,
   "metadata": {},
   "outputs": [],
   "source": []
  },
  {
   "cell_type": "markdown",
   "metadata": {},
   "source": [
    "# We choose INTIME_TRANS_COLLAPSED column to make temporal data split \n",
    "#### source: Predicting inpatient flow at a major hospital using interpretable analytics\n",
    "https://web.mit.edu/jpauph/www/pdf/lengthofstay.pdf\n",
    "\n",
    "They use temporal train/test/validate split. Took 6 months, then 2 months, then 2 months\n",
    "\n",
    "\n",
    "- We have roughly 12 years of data (total days is datetime.timedelta(days=4226))"
   ]
  },
  {
   "cell_type": "code",
   "execution_count": 5,
   "metadata": {},
   "outputs": [],
   "source": [
    "# Extracts day from intime col\n",
    "def extract_day(df, intime_cols): \n",
    "    for col in intime_cols:\n",
    "        col_name = str(col) + \"_day\"\n",
    "        df.loc[:, str(col)] = pd.to_datetime(df.loc[:, str(col)])\n",
    "        df.insert(df.shape[1], str(col_name), df.loc[:,str(col)].dt.date, True) \n",
    "    return(df)"
   ]
  },
  {
   "cell_type": "code",
   "execution_count": 6,
   "metadata": {},
   "outputs": [],
   "source": [
    "def prepare_df(df):\n",
    "    #turn INTIME_TRANS_COLLAPSED column into type(datetime day)\n",
    "    df = extract_day(df, ['INTIME_COLLAPSED']).drop(['INTIME_COLLAPSED'], axis=1)\n",
    "    \n",
    "    # sort df using INTIME_TRANS_COLLAPSED column, to get indexes for data splits\n",
    "    df = df.sort_values(by='INTIME_COLLAPSED_day')\n",
    "    return df\n"
   ]
  },
  {
   "cell_type": "code",
   "execution_count": null,
   "metadata": {},
   "outputs": [],
   "source": []
  },
  {
   "cell_type": "code",
   "execution_count": 7,
   "metadata": {},
   "outputs": [],
   "source": [
    "def return_split_data(df):\n",
    "\n",
    "    bound = int(data.shape[0] * 0.2) #get first 20% of rows\n",
    "    bound2 = data.shape[0] - bound #rest of 80% for all train/test/validate\n",
    "    \n",
    "    df = df.sort_values(by='INTIME_COLLAPSED_day')\n",
    "    df = df.reset_index()\n",
    "    clustering_index = [x for x in range(0, bound)]\n",
    "    train_test_validate_index = [x for x in range(bound, bound+ bound2)]\n",
    "    print('summed rows', len(clustering_index) + len(train_test_validate_index))\n",
    "    clustering_data = df.loc[clustering_index] \n",
    "    train_test_validate_data = df.loc[train_test_validate_index]\n",
    "    \n",
    "    #additional info\n",
    "    #total number of days we have in data is 4226\n",
    "    total_days = df['INTIME_COLLAPSED_day'].max() - df['INTIME_COLLAPSED_day'].min()\n",
    "    print('total days in data', total_days)\n",
    "\n",
    "    return clustering_data, train_test_validate_data\n",
    "    \n",
    "    \n",
    "    "
   ]
  },
  {
   "cell_type": "code",
   "execution_count": 8,
   "metadata": {},
   "outputs": [],
   "source": [
    "#clean df and sort\n",
    "data = prepare_df(data)"
   ]
  },
  {
   "cell_type": "code",
   "execution_count": 9,
   "metadata": {},
   "outputs": [
    {
     "data": {
      "text/plain": [
       "(61532, 45)"
      ]
     },
     "execution_count": 9,
     "metadata": {},
     "output_type": "execute_result"
    }
   ],
   "source": [
    "data.shape"
   ]
  },
  {
   "cell_type": "code",
   "execution_count": 10,
   "metadata": {},
   "outputs": [],
   "source": [
    "#data.to_csv('practicum_icu_data.csv')"
   ]
  },
  {
   "cell_type": "code",
   "execution_count": 11,
   "metadata": {},
   "outputs": [
    {
     "data": {
      "text/plain": [
       "Index(['subject_id', 'hadm_id', 'icustay_id', 'gender', 'dod', 'admittime',\n",
       "       'dischtime', 'los_hospital', 'ethnicity_grouped', 'admission_type',\n",
       "       'hospital_expire_flag', 'hospstay_seq', 'first_hosp_stay', 'los_icu',\n",
       "       'icustay_seq', 'first_icu_stay', 'category', 'first_category', 'blood',\n",
       "       'circulatory', 'congenital', 'digestive', 'genitourinary',\n",
       "       'ill-defined', 'infectious|parasitic', 'injury|poisoning', 'mental',\n",
       "       'metabolic|immunity', 'musculoskeletal', 'neoplasms', 'nervous',\n",
       "       'perinatal', 'pregnancy complications', 'respiratory', 'skin',\n",
       "       'unclassified', 'FIRST_CAREUNIT', 'INTIME', 'OUTTIME_COLLAPSED',\n",
       "       'age_group', 'dod_exists', 'sepsis', 'diagnoses_count', 'ideal_ICU',\n",
       "       'INTIME_COLLAPSED_day'],\n",
       "      dtype='object')"
      ]
     },
     "execution_count": 11,
     "metadata": {},
     "output_type": "execute_result"
    }
   ],
   "source": [
    "data.columns"
   ]
  },
  {
   "cell_type": "code",
   "execution_count": 12,
   "metadata": {},
   "outputs": [
    {
     "data": {
      "text/plain": [
       "INTIME_COLLAPSED_day\n",
       "2000-12-31     9\n",
       "2001-01-01    11\n",
       "2001-01-02    12\n",
       "2001-01-03     7\n",
       "2001-01-04     5\n",
       "              ..\n",
       "2012-11-23     2\n",
       "2012-11-29     1\n",
       "2012-12-03     1\n",
       "2012-12-07     1\n",
       "2012-12-29     1\n",
       "Length: 4264, dtype: int64"
      ]
     },
     "execution_count": 12,
     "metadata": {},
     "output_type": "execute_result"
    }
   ],
   "source": [
    "data.groupby('INTIME_COLLAPSED_day').size()"
   ]
  },
  {
   "cell_type": "code",
   "execution_count": 13,
   "metadata": {},
   "outputs": [
    {
     "data": {
      "text/plain": [
       "datetime.timedelta(days=4381)"
      ]
     },
     "execution_count": 13,
     "metadata": {},
     "output_type": "execute_result"
    }
   ],
   "source": [
    "#total number of days in our dataset is 4381 days (but we only have 4264 rows because of the days we have zero admissions)\n",
    "\n",
    "data.groupby('INTIME_COLLAPSED_day').count().index.max() - data.groupby('INTIME_COLLAPSED_day').count().index.min()"
   ]
  },
  {
   "cell_type": "code",
   "execution_count": null,
   "metadata": {},
   "outputs": [],
   "source": []
  },
  {
   "cell_type": "code",
   "execution_count": null,
   "metadata": {},
   "outputs": [],
   "source": []
  },
  {
   "cell_type": "markdown",
   "metadata": {},
   "source": []
  },
  {
   "cell_type": "code",
   "execution_count": 19,
   "metadata": {},
   "outputs": [],
   "source": [
    "## We delete rows where intime date is outside of 1 June 2001 and 10 October 2012.\n",
    "#from MIMIC-III\n",
    "#The ADMISSIONS table defines all HADM_ID present in the database, \n",
    "#covering an admission period between 1 June 2001 and 10 October 2012.\n",
    "# from datetime import datetime\n",
    "# min_date = '2001-06-01'\n",
    "# min_date = datetime.strptime(min_date, '%Y-%m-%d').date()\n",
    "\n",
    "# max_date = '2012-10-10'\n",
    "# max_date = datetime.strptime(max_date, '%Y-%m-%d').date()"
   ]
  },
  {
   "cell_type": "code",
   "execution_count": 20,
   "metadata": {},
   "outputs": [],
   "source": [
    "# data[data['INTIME_COLLAPSED_day']<min_date] #2202 rows\n",
    "# data[data['INTIME_COLLAPSED_day']>max_date] #38 rows\n",
    "\n",
    "# total_rows_deleted = len(data[data['INTIME_COLLAPSED_day']<min_date]) + len(data[data['INTIME_COLLAPSED_day']>max_date])\n",
    "# total_rows_deleted\n"
   ]
  },
  {
   "cell_type": "code",
   "execution_count": 66,
   "metadata": {},
   "outputs": [],
   "source": [
    "# data = data[(data['INTIME_COLLAPSED_day']>min_date) & (data['INTIME_COLLAPSED_day']<max_date)]"
   ]
  },
  {
   "cell_type": "code",
   "execution_count": null,
   "metadata": {},
   "outputs": [],
   "source": []
  },
  {
   "cell_type": "code",
   "execution_count": 72,
   "metadata": {},
   "outputs": [
    {
     "data": {
      "text/plain": [
       "datetime.timedelta(days=4147)"
      ]
     },
     "execution_count": 72,
     "metadata": {},
     "output_type": "execute_result"
    }
   ],
   "source": [
    "data.groupby('INTIME_COLLAPSED_day').count().index.max() - data.groupby('INTIME_COLLAPSED_day').count().index.min()"
   ]
  },
  {
   "cell_type": "markdown",
   "metadata": {},
   "source": [
    "# We Split Data into 20% clustering, 80% train/test/validate/make priors"
   ]
  },
  {
   "cell_type": "code",
   "execution_count": 14,
   "metadata": {},
   "outputs": [
    {
     "name": "stdout",
     "output_type": "stream",
     "text": [
      "summed rows 61532\n",
      "total days in data 4381 days, 0:00:00\n"
     ]
    }
   ],
   "source": [
    "#getting split up data\n",
    "#20% clustering, #80% train, test, validate\n",
    "\n",
    "clustering_data, train_test_validate_data = return_split_data(data)"
   ]
  },
  {
   "cell_type": "code",
   "execution_count": 15,
   "metadata": {},
   "outputs": [
    {
     "data": {
      "text/plain": [
       "49226"
      ]
     },
     "execution_count": 15,
     "metadata": {},
     "output_type": "execute_result"
    }
   ],
   "source": [
    "#checks\n",
    "clustering_data.head()\n",
    "\n",
    "len(train_test_validate_data)"
   ]
  },
  {
   "cell_type": "code",
   "execution_count": 16,
   "metadata": {},
   "outputs": [
    {
     "name": "stdout",
     "output_type": "stream",
     "text": [
      "2012-12-29\n",
      "2000-12-31\n",
      "4381 days, 0:00:00\n"
     ]
    }
   ],
   "source": [
    "print(data.INTIME_COLLAPSED_day.max())\n",
    "print(data.INTIME_COLLAPSED_day.min())\n",
    "print(data.INTIME_COLLAPSED_day.max() - data.INTIME_COLLAPSED_day.min())"
   ]
  },
  {
   "cell_type": "code",
   "execution_count": 17,
   "metadata": {},
   "outputs": [
    {
     "name": "stdout",
     "output_type": "stream",
     "text": [
      "2012-12-29\n",
      "2003-03-01\n",
      "3591 days, 0:00:00\n"
     ]
    }
   ],
   "source": [
    "print(train_test_validate_data.INTIME_COLLAPSED_day.max())\n",
    "print(train_test_validate_data.INTIME_COLLAPSED_day.min())\n",
    "print(train_test_validate_data.INTIME_COLLAPSED_day.max() - train_test_validate_data.INTIME_COLLAPSED_day.min())"
   ]
  },
  {
   "cell_type": "code",
   "execution_count": 18,
   "metadata": {},
   "outputs": [],
   "source": [
    "#write to csv\n",
    "clustering_data.to_csv('../exploration_data/clustering_data.csv', index=False)\n",
    "train_test_validate_data.to_csv('../output_data/train_test_validate_data.csv', index=False)\n"
   ]
  },
  {
   "cell_type": "code",
   "execution_count": null,
   "metadata": {},
   "outputs": [],
   "source": []
  },
  {
   "cell_type": "code",
   "execution_count": null,
   "metadata": {},
   "outputs": [],
   "source": []
  },
  {
   "cell_type": "code",
   "execution_count": null,
   "metadata": {},
   "outputs": [],
   "source": []
  },
  {
   "cell_type": "code",
   "execution_count": null,
   "metadata": {},
   "outputs": [],
   "source": []
  },
  {
   "cell_type": "code",
   "execution_count": null,
   "metadata": {},
   "outputs": [],
   "source": []
  },
  {
   "cell_type": "code",
   "execution_count": 18,
   "metadata": {},
   "outputs": [],
   "source": []
  },
  {
   "cell_type": "code",
   "execution_count": null,
   "metadata": {},
   "outputs": [],
   "source": []
  },
  {
   "cell_type": "code",
   "execution_count": null,
   "metadata": {},
   "outputs": [],
   "source": []
  },
  {
   "cell_type": "code",
   "execution_count": null,
   "metadata": {},
   "outputs": [],
   "source": []
  },
  {
   "cell_type": "code",
   "execution_count": null,
   "metadata": {},
   "outputs": [],
   "source": []
  }
 ],
 "metadata": {
  "kernelspec": {
   "display_name": "Python 3",
   "language": "python",
   "name": "python3"
  },
  "language_info": {
   "codemirror_mode": {
    "name": "ipython",
    "version": 3
   },
   "file_extension": ".py",
   "mimetype": "text/x-python",
   "name": "python",
   "nbconvert_exporter": "python",
   "pygments_lexer": "ipython3",
   "version": "3.7.2"
  }
 },
 "nbformat": 4,
 "nbformat_minor": 2
}
