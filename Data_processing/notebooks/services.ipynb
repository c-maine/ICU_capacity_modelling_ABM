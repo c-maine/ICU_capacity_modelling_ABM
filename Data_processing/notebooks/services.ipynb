{
 "cells": [
  {
   "cell_type": "markdown",
   "metadata": {},
   "source": [
    "# Services notebook\n",
    "\n",
    "# Aims and objectives\n",
    "\n",
    "- Identify correct ICU classification for each ICU stay (as ICU into which a patient was admitted may not be the best ICU to suit their needs due to effects such as boarding)\n"
   ]
  },
  {
   "cell_type": "markdown",
   "metadata": {},
   "source": [
    "# Import packages"
   ]
  },
  {
   "cell_type": "code",
   "execution_count": 1,
   "metadata": {},
   "outputs": [],
   "source": [
    "import pandas as pd\n",
    "import os\n",
    "import matplotlib.pyplot as plt\n",
    "from scipy.stats import ks_2samp\n",
    "import numpy as np"
   ]
  },
  {
   "cell_type": "markdown",
   "metadata": {},
   "source": [
    "# Read in files"
   ]
  },
  {
   "cell_type": "code",
   "execution_count": 2,
   "metadata": {},
   "outputs": [],
   "source": [
    "# Read in files\n",
    "\n",
    "#os.chdir(\"/Users/chloemaine/Documents/Chloe/BGSE/masters_project/raw_data\")\n",
    "ser = pd.read_csv('../input_data/services.csv')\n",
    "pdeets = pd.read_csv('../input_data/patient_details.csv')\n",
    "\n",
    "# ser = ser.loc[:, ['SUBJECT_ID', 'HADM_ID', 'CURR_SERVICE', 'FIRST_CAREUNIT']]"
   ]
  },
  {
   "cell_type": "markdown",
   "metadata": {},
   "source": [
    "# Define functions"
   ]
  },
  {
   "cell_type": "code",
   "execution_count": 3,
   "metadata": {},
   "outputs": [],
   "source": [
    "# Function to assign best ICU according to service\n",
    "def which_icu(service):\n",
    "    \n",
    "    # Newborns should be in the NICU\n",
    "    if service == 'NB' or service == 'NBB':\n",
    "        icu = 'NICU'\n",
    "    \n",
    "    # Non surgical cardiac admissions in the CCU\n",
    "    elif service == 'CMED':\n",
    "        icu = 'CCU'\n",
    "    \n",
    "    # Surgical cardiac admissions in the CSRU\n",
    "    elif service == 'CSURG':\n",
    "        icu = 'CSRU'\n",
    "    \n",
    "    # Non surgical, mental and general medicine in the MICU\n",
    "    elif service == 'MED' or service == 'OMED' or service == 'NMED' or service == 'PSYCH':\n",
    "        icu = 'MICU'\n",
    "    \n",
    "    # Trauma in the TSICU\n",
    "    elif service == 'TRAUM':\n",
    "        icu = 'TSICU'\n",
    "    \n",
    "    # Surgeries in either the TSICU or SICU\n",
    "    elif service == 'TSURG' or service == 'VSURG' or service == 'PSURG' or service == 'SURG' or service == 'ORTHO' or service == 'NSURG' or service == 'OBS':\n",
    "        icu = 'SICU TSICU'\n",
    "    \n",
    "    # Others should not be in the cardiac or neonatal units\n",
    "    elif service == 'DENT' or service == 'ENT' or service == 'GU' or service == 'GYN' :\n",
    "        icu = 'SICU TSICU MICU' \n",
    "\n",
    "    else : icu = 'unknown'\n",
    "    return(icu)\n",
    "\n",
    "# Function to identify if actual ICU is in list of best ICU\n",
    "# Function to identify if actual ICU is in list of best ICU\n",
    "def match_ICU(df):\n",
    "    \n",
    "    df.loc[:, 'best_ICU'] = df.loc[:, 'CURR_SERVICE'].apply(lambda x : which_icu(x)) # Best ICU describes which ICU a patient should be in\n",
    "    \n",
    "    # Precalculate lists to improve performance\n",
    "    FC = df.FIRST_CAREUNIT\n",
    "    BICU = df.best_ICU\n",
    "    \n",
    "    # Initialise results lists\n",
    "    results = [] # Whether or not there is match between best ICU and true ICU\n",
    "    results_2 = [] # What the ICU should have been ('ideal ICU')\n",
    "    \n",
    "    # Initialise list for what to do with TSICU/SICU cases\n",
    "    TSICUSICU = ['TSICU', 'SICU']\n",
    "    \n",
    "    # Initialise dictionary to count what happens with different replacements\n",
    "    counts = {}\n",
    "    counts['matches'] = 0\n",
    "    counts['straight_replacement']=0\n",
    "    counts['MICU assumption']=0\n",
    "    counts['Surgery assumption']=0\n",
    "    \n",
    "    # Initialise counters\n",
    "    j=0\n",
    "    k=0\n",
    "    \n",
    "    for i in FC:\n",
    "        \n",
    "        # In the case that true ICU is the same as best ICU\n",
    "        if i in BICU[j].split():\n",
    "            results.append(True)\n",
    "            results_2.append(i)\n",
    "            counts['matches'] += 1\n",
    "\n",
    "        else :\n",
    "            results.append(False)\n",
    "            \n",
    "            # In the case that true ICU is not in the list of best ICUs, and there is only one ICU in best ICU\n",
    "            if len(BICU[j].split()) == 1:\n",
    "                results_2.append(BICU[j])\n",
    "                counts['straight_replacement'] +=1\n",
    "                \n",
    "            # In the cases that true ICU is not in the list of best ICUs, and there is more than one best ICU in \n",
    "            # the best  ICU list\n",
    "            \n",
    "            # Case when best ICU could be either SICU, TSICU or MICU - we assume ideal ICU is the MICU\n",
    "            elif BICU[j] == 'SICU TSICU MICU':\n",
    "                results_2.append('MICU')\n",
    "                counts['MICU assumption'] += 1\n",
    "                \n",
    "            # Case when best ICU could be either SICU or TSICU - we assume 50:50 distribution between the 2\n",
    "            elif BICU[j] == 'SICU TSICU':\n",
    "                results_2.append(TSICUSICU[k])\n",
    "                counts['Surgery assumption'] += 1\n",
    "                k += 1\n",
    "                if k == 2: k = 0\n",
    "                    \n",
    "            else: results_2.append('Null')\n",
    "                \n",
    "        j+=1\n",
    "    \n",
    "    # Bind results to df\n",
    "    df.loc[:, 'match_ICU'] = results\n",
    "    df.loc[:, 'ideal_ICU'] = results_2\n",
    "    \n",
    "    \n",
    "    return([df, counts])"
   ]
  },
  {
   "cell_type": "markdown",
   "metadata": {},
   "source": [
    "# Pre-process dfs before merge"
   ]
  },
  {
   "cell_type": "code",
   "execution_count": 4,
   "metadata": {},
   "outputs": [],
   "source": [
    "# Drop intime and outime - there are cases where a patient is double recorded a few minutes apart on entering\n",
    "# To prevent duplicates occurring, we match on ICU STAY ID, HADM ID and SUBJECT ID\n",
    "ser = ser.loc[:, ['SUBJECT_ID', 'HADM_ID', 'CURR_SERVICE','PREV_SERVICE', \n",
    "                  'LAST_CAREUNIT', 'FIRST_WARDID', 'LAST_WARDID', 'LOS', 'ICUSTAY_ID',\n",
    "                  'FIRST_CAREUNIT']] \n",
    "\n",
    "ser= ser.drop_duplicates()"
   ]
  },
  {
   "cell_type": "markdown",
   "metadata": {},
   "source": [
    "# Merge services with patient details "
   ]
  },
  {
   "cell_type": "code",
   "execution_count": 5,
   "metadata": {},
   "outputs": [
    {
     "name": "stdout",
     "output_type": "stream",
     "text": [
      "Merged df shape is (61532, 30)\n",
      "Pdeets df shape is (61532, 20)\n",
      "MATCH!\n"
     ]
    },
    {
     "data": {
      "text/html": [
       "<div>\n",
       "<style scoped>\n",
       "    .dataframe tbody tr th:only-of-type {\n",
       "        vertical-align: middle;\n",
       "    }\n",
       "\n",
       "    .dataframe tbody tr th {\n",
       "        vertical-align: top;\n",
       "    }\n",
       "\n",
       "    .dataframe thead th {\n",
       "        text-align: right;\n",
       "    }\n",
       "</style>\n",
       "<table border=\"1\" class=\"dataframe\">\n",
       "  <thead>\n",
       "    <tr style=\"text-align: right;\">\n",
       "      <th></th>\n",
       "      <th>subject_id</th>\n",
       "      <th>hadm_id</th>\n",
       "      <th>icustay_id</th>\n",
       "      <th>gender</th>\n",
       "      <th>dod</th>\n",
       "      <th>admittime</th>\n",
       "      <th>dischtime</th>\n",
       "      <th>los_hospital</th>\n",
       "      <th>age</th>\n",
       "      <th>ethnicity</th>\n",
       "      <th>...</th>\n",
       "      <th>SUBJECT_ID</th>\n",
       "      <th>HADM_ID</th>\n",
       "      <th>CURR_SERVICE</th>\n",
       "      <th>PREV_SERVICE</th>\n",
       "      <th>LAST_CAREUNIT</th>\n",
       "      <th>FIRST_WARDID</th>\n",
       "      <th>LAST_WARDID</th>\n",
       "      <th>LOS</th>\n",
       "      <th>ICUSTAY_ID</th>\n",
       "      <th>FIRST_CAREUNIT</th>\n",
       "    </tr>\n",
       "  </thead>\n",
       "  <tbody>\n",
       "    <tr>\n",
       "      <th>0</th>\n",
       "      <td>2</td>\n",
       "      <td>163353</td>\n",
       "      <td>243653</td>\n",
       "      <td>M</td>\n",
       "      <td>NaN</td>\n",
       "      <td>2138-07-17 19:04:00</td>\n",
       "      <td>2138-07-21 15:48:00</td>\n",
       "      <td>4</td>\n",
       "      <td>0</td>\n",
       "      <td>ASIAN</td>\n",
       "      <td>...</td>\n",
       "      <td>2.0</td>\n",
       "      <td>163353.0</td>\n",
       "      <td>NB</td>\n",
       "      <td>NaN</td>\n",
       "      <td>NICU</td>\n",
       "      <td>56.0</td>\n",
       "      <td>56.0</td>\n",
       "      <td>0.0918</td>\n",
       "      <td>243653.0</td>\n",
       "      <td>NICU</td>\n",
       "    </tr>\n",
       "    <tr>\n",
       "      <th>1</th>\n",
       "      <td>3</td>\n",
       "      <td>145834</td>\n",
       "      <td>211552</td>\n",
       "      <td>M</td>\n",
       "      <td>2102-06-14 00:00:00</td>\n",
       "      <td>2101-10-20 19:08:00</td>\n",
       "      <td>2101-10-31 13:58:00</td>\n",
       "      <td>11</td>\n",
       "      <td>76</td>\n",
       "      <td>WHITE</td>\n",
       "      <td>...</td>\n",
       "      <td>3.0</td>\n",
       "      <td>145834.0</td>\n",
       "      <td>VSURG</td>\n",
       "      <td>NaN</td>\n",
       "      <td>MICU</td>\n",
       "      <td>12.0</td>\n",
       "      <td>12.0</td>\n",
       "      <td>6.0646</td>\n",
       "      <td>211552.0</td>\n",
       "      <td>MICU</td>\n",
       "    </tr>\n",
       "    <tr>\n",
       "      <th>2</th>\n",
       "      <td>4</td>\n",
       "      <td>185777</td>\n",
       "      <td>294638</td>\n",
       "      <td>F</td>\n",
       "      <td>NaN</td>\n",
       "      <td>2191-03-16 00:28:00</td>\n",
       "      <td>2191-03-23 18:41:00</td>\n",
       "      <td>7</td>\n",
       "      <td>48</td>\n",
       "      <td>WHITE</td>\n",
       "      <td>...</td>\n",
       "      <td>4.0</td>\n",
       "      <td>185777.0</td>\n",
       "      <td>MED</td>\n",
       "      <td>NaN</td>\n",
       "      <td>MICU</td>\n",
       "      <td>52.0</td>\n",
       "      <td>52.0</td>\n",
       "      <td>1.6785</td>\n",
       "      <td>294638.0</td>\n",
       "      <td>MICU</td>\n",
       "    </tr>\n",
       "    <tr>\n",
       "      <th>3</th>\n",
       "      <td>5</td>\n",
       "      <td>178980</td>\n",
       "      <td>214757</td>\n",
       "      <td>M</td>\n",
       "      <td>NaN</td>\n",
       "      <td>2103-02-02 04:31:00</td>\n",
       "      <td>2103-02-04 12:15:00</td>\n",
       "      <td>2</td>\n",
       "      <td>0</td>\n",
       "      <td>ASIAN</td>\n",
       "      <td>...</td>\n",
       "      <td>5.0</td>\n",
       "      <td>178980.0</td>\n",
       "      <td>NB</td>\n",
       "      <td>NaN</td>\n",
       "      <td>NICU</td>\n",
       "      <td>56.0</td>\n",
       "      <td>56.0</td>\n",
       "      <td>0.0844</td>\n",
       "      <td>214757.0</td>\n",
       "      <td>NICU</td>\n",
       "    </tr>\n",
       "    <tr>\n",
       "      <th>4</th>\n",
       "      <td>6</td>\n",
       "      <td>107064</td>\n",
       "      <td>228232</td>\n",
       "      <td>F</td>\n",
       "      <td>NaN</td>\n",
       "      <td>2175-05-30 07:15:00</td>\n",
       "      <td>2175-06-15 16:00:00</td>\n",
       "      <td>16</td>\n",
       "      <td>66</td>\n",
       "      <td>WHITE</td>\n",
       "      <td>...</td>\n",
       "      <td>6.0</td>\n",
       "      <td>107064.0</td>\n",
       "      <td>SURG</td>\n",
       "      <td>NaN</td>\n",
       "      <td>SICU</td>\n",
       "      <td>33.0</td>\n",
       "      <td>33.0</td>\n",
       "      <td>3.6729</td>\n",
       "      <td>228232.0</td>\n",
       "      <td>SICU</td>\n",
       "    </tr>\n",
       "  </tbody>\n",
       "</table>\n",
       "<p>5 rows × 30 columns</p>\n",
       "</div>"
      ],
      "text/plain": [
       "   subject_id  hadm_id  icustay_id gender                  dod  \\\n",
       "0           2   163353      243653      M                  NaN   \n",
       "1           3   145834      211552      M  2102-06-14 00:00:00   \n",
       "2           4   185777      294638      F                  NaN   \n",
       "3           5   178980      214757      M                  NaN   \n",
       "4           6   107064      228232      F                  NaN   \n",
       "\n",
       "             admittime            dischtime  los_hospital  age ethnicity  ...  \\\n",
       "0  2138-07-17 19:04:00  2138-07-21 15:48:00             4    0     ASIAN  ...   \n",
       "1  2101-10-20 19:08:00  2101-10-31 13:58:00            11   76     WHITE  ...   \n",
       "2  2191-03-16 00:28:00  2191-03-23 18:41:00             7   48     WHITE  ...   \n",
       "3  2103-02-02 04:31:00  2103-02-04 12:15:00             2    0     ASIAN  ...   \n",
       "4  2175-05-30 07:15:00  2175-06-15 16:00:00            16   66     WHITE  ...   \n",
       "\n",
       "  SUBJECT_ID   HADM_ID  CURR_SERVICE  PREV_SERVICE  LAST_CAREUNIT  \\\n",
       "0        2.0  163353.0            NB           NaN           NICU   \n",
       "1        3.0  145834.0         VSURG           NaN           MICU   \n",
       "2        4.0  185777.0           MED           NaN           MICU   \n",
       "3        5.0  178980.0            NB           NaN           NICU   \n",
       "4        6.0  107064.0          SURG           NaN           SICU   \n",
       "\n",
       "  FIRST_WARDID LAST_WARDID     LOS  ICUSTAY_ID  FIRST_CAREUNIT  \n",
       "0         56.0        56.0  0.0918    243653.0            NICU  \n",
       "1         12.0        12.0  6.0646    211552.0            MICU  \n",
       "2         52.0        52.0  1.6785    294638.0            MICU  \n",
       "3         56.0        56.0  0.0844    214757.0            NICU  \n",
       "4         33.0        33.0  3.6729    228232.0            SICU  \n",
       "\n",
       "[5 rows x 30 columns]"
      ]
     },
     "execution_count": 5,
     "metadata": {},
     "output_type": "execute_result"
    }
   ],
   "source": [
    "# Now not required- done during query\n",
    "# # Filter service table to only entries where patient is entering the hospital i.e. where previous service is null\n",
    "# ser.PREV_SERVICE = ser.PREV_SERVICE.fillna('NULL')\n",
    "# ser = ser.loc[ser.loc[:, 'PREV_SERVICE']== 'NULL',]\n",
    "\n",
    "# Perform merge\n",
    "merged_df = pdeets.merge(ser,\n",
    "                         how = 'left',\n",
    "                         left_on = ['hadm_id', 'subject_id', 'icustay_id'],\n",
    "                         right_on = ['HADM_ID', 'SUBJECT_ID', 'ICUSTAY_ID'])\n",
    "\n",
    "\n",
    "print(\"Merged df shape is\", merged_df.shape)\n",
    "print(\"Pdeets df shape is\", pdeets.shape)\n",
    "if merged_df.shape[0] == pdeets.shape[0]:\n",
    "    print('MATCH!')\n",
    "else: print(\"Something's up\")\n",
    "    \n",
    "merged_df.iloc[0:5, :]"
   ]
  },
  {
   "cell_type": "markdown",
   "metadata": {},
   "source": [
    "# Investigate services admitted per ICU"
   ]
  },
  {
   "cell_type": "code",
   "execution_count": 6,
   "metadata": {},
   "outputs": [],
   "source": [
    "# Create results dataframe\n",
    "\n",
    "icu_list = ['NICU', 'MICU', 'CSRU', 'CCU', 'SICU', 'TSICU']\n",
    "\n",
    "results = []\n",
    "for icu in icu_list:\n",
    "    results.append(merged_df.loc[merged_df.loc[:,'FIRST_CAREUNIT']== icu, ].groupby('CURR_SERVICE').icustay_id.count())"
   ]
  },
  {
   "cell_type": "code",
   "execution_count": 7,
   "metadata": {},
   "outputs": [
    {
     "data": {
      "image/png": "[encoded data removed]",
      "text/plain": [
       "<Figure size 1065.6x864 with 6 Axes>"
      ]
     },
     "metadata": {
      "needs_background": "light"
     },
     "output_type": "display_data"
    }
   ],
   "source": [
    "# Plot results\n",
    "\n",
    "f, axs = plt.subplots(3,2, figsize=(14.8, 12), sharex = True, sharey = True)\n",
    "icu_labels = ['Neonatal ICU', 'Medical ICU', 'Cardiac Surgery Recovery Unit', 'Coronary Care Unit', 'Surgical ICU', 'Trauma/Surgical ICU']\n",
    "\n",
    "for icu in range(0, len(results)):\n",
    "    \n",
    "    labels = results[icu].index\n",
    "    plt.subplot(4, 2, icu+1)\n",
    "    plt.bar(labels, results[icu])\n",
    "    plt.title(icu_labels[icu],  fontweight='bold')\n",
    "    plt.grid(color='#95a5a6', linestyle='--', linewidth=2, axis='y', alpha=0.7)\n",
    "    plt.ylabel('Number of patients')\n",
    "    plt.xticks(labels, rotation = 45)\n",
    "\n",
    "    \n",
    "\n",
    "f.suptitle('Patients admitted by service per ICU', fontsize=16, fontweight = 'bold', y = 1)\n",
    "f.tight_layout(pad=3.0)\n",
    "plt.show()"
   ]
  },
  {
   "cell_type": "markdown",
   "metadata": {},
   "source": [
    "# Investigate best versus true ICU"
   ]
  },
  {
   "cell_type": "code",
   "execution_count": 8,
   "metadata": {},
   "outputs": [
    {
     "data": {
      "text/plain": [
       "{'matches': 47927,\n",
       " 'straight_replacement': 10624,\n",
       " 'MICU assumption': 21,\n",
       " 'Surgery assumption': 2960}"
      ]
     },
     "execution_count": 8,
     "metadata": {},
     "output_type": "execute_result"
    }
   ],
   "source": [
    "# Identify which ICU(s) would be best based on for which service patient was admitted\n",
    "merged_df.loc[:, 'best_ICU'] = merged_df.loc[:, 'CURR_SERVICE'].apply(lambda x : which_icu(x))\n",
    "\n",
    "# Identify if actual ICU is in list of best ICUs     \n",
    "merged_df, counts = match_ICU(merged_df)\n",
    "        \n",
    "# # Count how many patients were admitted to their best ICU- match/non-match ICU\n",
    "# merged_df.groupby('match_ICU').match_ICU.count()\n",
    "\n",
    "counts"
   ]
  },
  {
   "cell_type": "code",
   "execution_count": 9,
   "metadata": {},
   "outputs": [
    {
     "data": {
      "text/plain": [
       "0.00034128583501267634"
      ]
     },
     "execution_count": 9,
     "metadata": {},
     "output_type": "execute_result"
    }
   ],
   "source": [
    "21/61532"
   ]
  },
  {
   "cell_type": "code",
   "execution_count": 10,
   "metadata": {},
   "outputs": [
    {
     "data": {
      "text/plain": [
       "61532"
      ]
     },
     "execution_count": 10,
     "metadata": {},
     "output_type": "execute_result"
    }
   ],
   "source": [
    "sum(counts.values())"
   ]
  },
  {
   "cell_type": "code",
   "execution_count": 11,
   "metadata": {},
   "outputs": [
    {
     "data": {
      "text/html": [
       "<div>\n",
       "<style scoped>\n",
       "    .dataframe tbody tr th:only-of-type {\n",
       "        vertical-align: middle;\n",
       "    }\n",
       "\n",
       "    .dataframe tbody tr th {\n",
       "        vertical-align: top;\n",
       "    }\n",
       "\n",
       "    .dataframe thead th {\n",
       "        text-align: right;\n",
       "    }\n",
       "</style>\n",
       "<table border=\"1\" class=\"dataframe\">\n",
       "  <thead>\n",
       "    <tr style=\"text-align: right;\">\n",
       "      <th></th>\n",
       "      <th>subject_id</th>\n",
       "      <th>hadm_id</th>\n",
       "      <th>icustay_id</th>\n",
       "      <th>gender</th>\n",
       "      <th>dod</th>\n",
       "      <th>admittime</th>\n",
       "      <th>dischtime</th>\n",
       "      <th>los_hospital</th>\n",
       "      <th>age</th>\n",
       "      <th>ethnicity</th>\n",
       "      <th>...</th>\n",
       "      <th>PREV_SERVICE</th>\n",
       "      <th>LAST_CAREUNIT</th>\n",
       "      <th>FIRST_WARDID</th>\n",
       "      <th>LAST_WARDID</th>\n",
       "      <th>LOS</th>\n",
       "      <th>ICUSTAY_ID</th>\n",
       "      <th>FIRST_CAREUNIT</th>\n",
       "      <th>best_ICU</th>\n",
       "      <th>match_ICU</th>\n",
       "      <th>ideal_ICU</th>\n",
       "    </tr>\n",
       "  </thead>\n",
       "  <tbody>\n",
       "    <tr>\n",
       "      <td>0</td>\n",
       "      <td>2</td>\n",
       "      <td>163353</td>\n",
       "      <td>243653</td>\n",
       "      <td>M</td>\n",
       "      <td>NaN</td>\n",
       "      <td>2138-07-17 19:04:00</td>\n",
       "      <td>2138-07-21 15:48:00</td>\n",
       "      <td>4</td>\n",
       "      <td>0</td>\n",
       "      <td>ASIAN</td>\n",
       "      <td>...</td>\n",
       "      <td>NaN</td>\n",
       "      <td>NICU</td>\n",
       "      <td>56.0</td>\n",
       "      <td>56.0</td>\n",
       "      <td>0.0918</td>\n",
       "      <td>243653.0</td>\n",
       "      <td>NICU</td>\n",
       "      <td>NICU</td>\n",
       "      <td>True</td>\n",
       "      <td>NICU</td>\n",
       "    </tr>\n",
       "    <tr>\n",
       "      <td>1</td>\n",
       "      <td>3</td>\n",
       "      <td>145834</td>\n",
       "      <td>211552</td>\n",
       "      <td>M</td>\n",
       "      <td>2102-06-14 00:00:00</td>\n",
       "      <td>2101-10-20 19:08:00</td>\n",
       "      <td>2101-10-31 13:58:00</td>\n",
       "      <td>11</td>\n",
       "      <td>76</td>\n",
       "      <td>WHITE</td>\n",
       "      <td>...</td>\n",
       "      <td>NaN</td>\n",
       "      <td>MICU</td>\n",
       "      <td>12.0</td>\n",
       "      <td>12.0</td>\n",
       "      <td>6.0646</td>\n",
       "      <td>211552.0</td>\n",
       "      <td>MICU</td>\n",
       "      <td>SICU TSICU</td>\n",
       "      <td>False</td>\n",
       "      <td>TSICU</td>\n",
       "    </tr>\n",
       "    <tr>\n",
       "      <td>2</td>\n",
       "      <td>4</td>\n",
       "      <td>185777</td>\n",
       "      <td>294638</td>\n",
       "      <td>F</td>\n",
       "      <td>NaN</td>\n",
       "      <td>2191-03-16 00:28:00</td>\n",
       "      <td>2191-03-23 18:41:00</td>\n",
       "      <td>7</td>\n",
       "      <td>48</td>\n",
       "      <td>WHITE</td>\n",
       "      <td>...</td>\n",
       "      <td>NaN</td>\n",
       "      <td>MICU</td>\n",
       "      <td>52.0</td>\n",
       "      <td>52.0</td>\n",
       "      <td>1.6785</td>\n",
       "      <td>294638.0</td>\n",
       "      <td>MICU</td>\n",
       "      <td>MICU</td>\n",
       "      <td>True</td>\n",
       "      <td>MICU</td>\n",
       "    </tr>\n",
       "    <tr>\n",
       "      <td>3</td>\n",
       "      <td>5</td>\n",
       "      <td>178980</td>\n",
       "      <td>214757</td>\n",
       "      <td>M</td>\n",
       "      <td>NaN</td>\n",
       "      <td>2103-02-02 04:31:00</td>\n",
       "      <td>2103-02-04 12:15:00</td>\n",
       "      <td>2</td>\n",
       "      <td>0</td>\n",
       "      <td>ASIAN</td>\n",
       "      <td>...</td>\n",
       "      <td>NaN</td>\n",
       "      <td>NICU</td>\n",
       "      <td>56.0</td>\n",
       "      <td>56.0</td>\n",
       "      <td>0.0844</td>\n",
       "      <td>214757.0</td>\n",
       "      <td>NICU</td>\n",
       "      <td>NICU</td>\n",
       "      <td>True</td>\n",
       "      <td>NICU</td>\n",
       "    </tr>\n",
       "    <tr>\n",
       "      <td>4</td>\n",
       "      <td>6</td>\n",
       "      <td>107064</td>\n",
       "      <td>228232</td>\n",
       "      <td>F</td>\n",
       "      <td>NaN</td>\n",
       "      <td>2175-05-30 07:15:00</td>\n",
       "      <td>2175-06-15 16:00:00</td>\n",
       "      <td>16</td>\n",
       "      <td>66</td>\n",
       "      <td>WHITE</td>\n",
       "      <td>...</td>\n",
       "      <td>NaN</td>\n",
       "      <td>SICU</td>\n",
       "      <td>33.0</td>\n",
       "      <td>33.0</td>\n",
       "      <td>3.6729</td>\n",
       "      <td>228232.0</td>\n",
       "      <td>SICU</td>\n",
       "      <td>SICU TSICU</td>\n",
       "      <td>True</td>\n",
       "      <td>SICU</td>\n",
       "    </tr>\n",
       "  </tbody>\n",
       "</table>\n",
       "<p>5 rows × 33 columns</p>\n",
       "</div>"
      ],
      "text/plain": [
       "   subject_id  hadm_id  icustay_id gender                  dod  \\\n",
       "0           2   163353      243653      M                  NaN   \n",
       "1           3   145834      211552      M  2102-06-14 00:00:00   \n",
       "2           4   185777      294638      F                  NaN   \n",
       "3           5   178980      214757      M                  NaN   \n",
       "4           6   107064      228232      F                  NaN   \n",
       "\n",
       "             admittime            dischtime  los_hospital  age ethnicity  ...  \\\n",
       "0  2138-07-17 19:04:00  2138-07-21 15:48:00             4    0     ASIAN  ...   \n",
       "1  2101-10-20 19:08:00  2101-10-31 13:58:00            11   76     WHITE  ...   \n",
       "2  2191-03-16 00:28:00  2191-03-23 18:41:00             7   48     WHITE  ...   \n",
       "3  2103-02-02 04:31:00  2103-02-04 12:15:00             2    0     ASIAN  ...   \n",
       "4  2175-05-30 07:15:00  2175-06-15 16:00:00            16   66     WHITE  ...   \n",
       "\n",
       "  PREV_SERVICE LAST_CAREUNIT  FIRST_WARDID  LAST_WARDID     LOS ICUSTAY_ID  \\\n",
       "0          NaN          NICU          56.0         56.0  0.0918   243653.0   \n",
       "1          NaN          MICU          12.0         12.0  6.0646   211552.0   \n",
       "2          NaN          MICU          52.0         52.0  1.6785   294638.0   \n",
       "3          NaN          NICU          56.0         56.0  0.0844   214757.0   \n",
       "4          NaN          SICU          33.0         33.0  3.6729   228232.0   \n",
       "\n",
       "  FIRST_CAREUNIT    best_ICU  match_ICU  ideal_ICU  \n",
       "0           NICU        NICU       True       NICU  \n",
       "1           MICU  SICU TSICU      False      TSICU  \n",
       "2           MICU        MICU       True       MICU  \n",
       "3           NICU        NICU       True       NICU  \n",
       "4           SICU  SICU TSICU       True       SICU  \n",
       "\n",
       "[5 rows x 33 columns]"
      ]
     },
     "execution_count": 11,
     "metadata": {},
     "output_type": "execute_result"
    }
   ],
   "source": [
    "merged_df.iloc[0:5, ]"
   ]
  },
  {
   "cell_type": "code",
   "execution_count": 12,
   "metadata": {},
   "outputs": [
    {
     "data": {
      "text/plain": [
       "Series([], Name: best_ICU, dtype: int64)"
      ]
     },
     "execution_count": 12,
     "metadata": {},
     "output_type": "execute_result"
    }
   ],
   "source": [
    "# Check there are no unmatched ICU counts\n",
    "unmatched_icu_counts = merged_df.loc[merged_df.loc[:, 'ideal_ICU']=='Null', ].groupby('best_ICU').best_ICU.count()\n",
    "unmatched_icu_counts"
   ]
  },
  {
   "cell_type": "code",
   "execution_count": 13,
   "metadata": {},
   "outputs": [
    {
     "data": {
      "text/plain": [
       "FIRST_CAREUNIT\n",
       "SICU     0.580447\n",
       "TSICU    0.419553\n",
       "Name: count, dtype: object"
      ]
     },
     "execution_count": 13,
     "metadata": {},
     "output_type": "execute_result"
    }
   ],
   "source": [
    "# Check distribution between TSICU and SICU\n",
    "cu_counts = merged_df.groupby('FIRST_CAREUNIT').FIRST_CAREUNIT.describe().loc[:, 'count']\n",
    "cu_counts.iloc[[4,5]]/sum(cu_counts.iloc[[4,5]])"
   ]
  },
  {
   "cell_type": "code",
   "execution_count": 47,
   "metadata": {},
   "outputs": [
    {
     "data": {
      "text/plain": [
       "Index(['subject_id', 'hadm_id', 'icustay_id', 'gender', 'dod', 'admittime',\n",
       "       'dischtime', 'los_hospital', 'age', 'ethnicity', 'ethnicity_grouped',\n",
       "       'admission_type', 'hospital_expire_flag', 'hospstay_seq',\n",
       "       'first_hosp_stay', 'intime', 'outtime', 'los_icu', 'icustay_seq',\n",
       "       'first_icu_stay', 'SUBJECT_ID', 'HADM_ID', 'CURR_SERVICE',\n",
       "       'PREV_SERVICE', 'LAST_CAREUNIT', 'FIRST_WARDID', 'LAST_WARDID', 'LOS',\n",
       "       'ICUSTAY_ID', 'FIRST_CAREUNIT', 'best_ICU', 'match_ICU', 'ideal_ICU'],\n",
       "      dtype='object')"
      ]
     },
     "execution_count": 47,
     "metadata": {},
     "output_type": "execute_result"
    }
   ],
   "source": [
    "merged_df.columns"
   ]
  },
  {
   "cell_type": "code",
   "execution_count": 14,
   "metadata": {},
   "outputs": [
    {
     "data": {
      "text/html": [
       "<div>\n",
       "<style scoped>\n",
       "    .dataframe tbody tr th:only-of-type {\n",
       "        vertical-align: middle;\n",
       "    }\n",
       "\n",
       "    .dataframe tbody tr th {\n",
       "        vertical-align: top;\n",
       "    }\n",
       "\n",
       "    .dataframe thead th {\n",
       "        text-align: right;\n",
       "    }\n",
       "</style>\n",
       "<table border=\"1\" class=\"dataframe\">\n",
       "  <thead>\n",
       "    <tr style=\"text-align: right;\">\n",
       "      <th></th>\n",
       "      <th>subject_id</th>\n",
       "      <th>hadm_id</th>\n",
       "      <th>icustay_id</th>\n",
       "      <th>gender</th>\n",
       "      <th>dod</th>\n",
       "      <th>admittime</th>\n",
       "      <th>dischtime</th>\n",
       "      <th>los_hospital</th>\n",
       "      <th>age</th>\n",
       "      <th>ethnicity</th>\n",
       "      <th>...</th>\n",
       "      <th>PREV_SERVICE</th>\n",
       "      <th>LAST_CAREUNIT</th>\n",
       "      <th>FIRST_WARDID</th>\n",
       "      <th>LAST_WARDID</th>\n",
       "      <th>LOS</th>\n",
       "      <th>ICUSTAY_ID</th>\n",
       "      <th>FIRST_CAREUNIT</th>\n",
       "      <th>best_ICU</th>\n",
       "      <th>match_ICU</th>\n",
       "      <th>ideal_ICU</th>\n",
       "    </tr>\n",
       "  </thead>\n",
       "  <tbody>\n",
       "    <tr>\n",
       "      <td>0</td>\n",
       "      <td>2</td>\n",
       "      <td>163353</td>\n",
       "      <td>243653</td>\n",
       "      <td>M</td>\n",
       "      <td>NaN</td>\n",
       "      <td>2138-07-17 19:04:00</td>\n",
       "      <td>2138-07-21 15:48:00</td>\n",
       "      <td>4</td>\n",
       "      <td>0</td>\n",
       "      <td>ASIAN</td>\n",
       "      <td>...</td>\n",
       "      <td>NaN</td>\n",
       "      <td>NICU</td>\n",
       "      <td>56.0</td>\n",
       "      <td>56.0</td>\n",
       "      <td>0.0918</td>\n",
       "      <td>243653.0</td>\n",
       "      <td>NICU</td>\n",
       "      <td>NICU</td>\n",
       "      <td>True</td>\n",
       "      <td>NICU</td>\n",
       "    </tr>\n",
       "    <tr>\n",
       "      <td>1</td>\n",
       "      <td>3</td>\n",
       "      <td>145834</td>\n",
       "      <td>211552</td>\n",
       "      <td>M</td>\n",
       "      <td>2102-06-14 00:00:00</td>\n",
       "      <td>2101-10-20 19:08:00</td>\n",
       "      <td>2101-10-31 13:58:00</td>\n",
       "      <td>11</td>\n",
       "      <td>76</td>\n",
       "      <td>WHITE</td>\n",
       "      <td>...</td>\n",
       "      <td>NaN</td>\n",
       "      <td>MICU</td>\n",
       "      <td>12.0</td>\n",
       "      <td>12.0</td>\n",
       "      <td>6.0646</td>\n",
       "      <td>211552.0</td>\n",
       "      <td>MICU</td>\n",
       "      <td>SICU TSICU</td>\n",
       "      <td>False</td>\n",
       "      <td>TSICU</td>\n",
       "    </tr>\n",
       "    <tr>\n",
       "      <td>2</td>\n",
       "      <td>4</td>\n",
       "      <td>185777</td>\n",
       "      <td>294638</td>\n",
       "      <td>F</td>\n",
       "      <td>NaN</td>\n",
       "      <td>2191-03-16 00:28:00</td>\n",
       "      <td>2191-03-23 18:41:00</td>\n",
       "      <td>7</td>\n",
       "      <td>48</td>\n",
       "      <td>WHITE</td>\n",
       "      <td>...</td>\n",
       "      <td>NaN</td>\n",
       "      <td>MICU</td>\n",
       "      <td>52.0</td>\n",
       "      <td>52.0</td>\n",
       "      <td>1.6785</td>\n",
       "      <td>294638.0</td>\n",
       "      <td>MICU</td>\n",
       "      <td>MICU</td>\n",
       "      <td>True</td>\n",
       "      <td>MICU</td>\n",
       "    </tr>\n",
       "    <tr>\n",
       "      <td>3</td>\n",
       "      <td>5</td>\n",
       "      <td>178980</td>\n",
       "      <td>214757</td>\n",
       "      <td>M</td>\n",
       "      <td>NaN</td>\n",
       "      <td>2103-02-02 04:31:00</td>\n",
       "      <td>2103-02-04 12:15:00</td>\n",
       "      <td>2</td>\n",
       "      <td>0</td>\n",
       "      <td>ASIAN</td>\n",
       "      <td>...</td>\n",
       "      <td>NaN</td>\n",
       "      <td>NICU</td>\n",
       "      <td>56.0</td>\n",
       "      <td>56.0</td>\n",
       "      <td>0.0844</td>\n",
       "      <td>214757.0</td>\n",
       "      <td>NICU</td>\n",
       "      <td>NICU</td>\n",
       "      <td>True</td>\n",
       "      <td>NICU</td>\n",
       "    </tr>\n",
       "    <tr>\n",
       "      <td>4</td>\n",
       "      <td>6</td>\n",
       "      <td>107064</td>\n",
       "      <td>228232</td>\n",
       "      <td>F</td>\n",
       "      <td>NaN</td>\n",
       "      <td>2175-05-30 07:15:00</td>\n",
       "      <td>2175-06-15 16:00:00</td>\n",
       "      <td>16</td>\n",
       "      <td>66</td>\n",
       "      <td>WHITE</td>\n",
       "      <td>...</td>\n",
       "      <td>NaN</td>\n",
       "      <td>SICU</td>\n",
       "      <td>33.0</td>\n",
       "      <td>33.0</td>\n",
       "      <td>3.6729</td>\n",
       "      <td>228232.0</td>\n",
       "      <td>SICU</td>\n",
       "      <td>SICU TSICU</td>\n",
       "      <td>True</td>\n",
       "      <td>SICU</td>\n",
       "    </tr>\n",
       "  </tbody>\n",
       "</table>\n",
       "<p>5 rows × 33 columns</p>\n",
       "</div>"
      ],
      "text/plain": [
       "   subject_id  hadm_id  icustay_id gender                  dod  \\\n",
       "0           2   163353      243653      M                  NaN   \n",
       "1           3   145834      211552      M  2102-06-14 00:00:00   \n",
       "2           4   185777      294638      F                  NaN   \n",
       "3           5   178980      214757      M                  NaN   \n",
       "4           6   107064      228232      F                  NaN   \n",
       "\n",
       "             admittime            dischtime  los_hospital  age ethnicity  ...  \\\n",
       "0  2138-07-17 19:04:00  2138-07-21 15:48:00             4    0     ASIAN  ...   \n",
       "1  2101-10-20 19:08:00  2101-10-31 13:58:00            11   76     WHITE  ...   \n",
       "2  2191-03-16 00:28:00  2191-03-23 18:41:00             7   48     WHITE  ...   \n",
       "3  2103-02-02 04:31:00  2103-02-04 12:15:00             2    0     ASIAN  ...   \n",
       "4  2175-05-30 07:15:00  2175-06-15 16:00:00            16   66     WHITE  ...   \n",
       "\n",
       "  PREV_SERVICE LAST_CAREUNIT  FIRST_WARDID  LAST_WARDID     LOS ICUSTAY_ID  \\\n",
       "0          NaN          NICU          56.0         56.0  0.0918   243653.0   \n",
       "1          NaN          MICU          12.0         12.0  6.0646   211552.0   \n",
       "2          NaN          MICU          52.0         52.0  1.6785   294638.0   \n",
       "3          NaN          NICU          56.0         56.0  0.0844   214757.0   \n",
       "4          NaN          SICU          33.0         33.0  3.6729   228232.0   \n",
       "\n",
       "  FIRST_CAREUNIT    best_ICU  match_ICU  ideal_ICU  \n",
       "0           NICU        NICU       True       NICU  \n",
       "1           MICU  SICU TSICU      False      TSICU  \n",
       "2           MICU        MICU       True       MICU  \n",
       "3           NICU        NICU       True       NICU  \n",
       "4           SICU  SICU TSICU       True       SICU  \n",
       "\n",
       "[5 rows x 33 columns]"
      ]
     },
     "execution_count": 14,
     "metadata": {},
     "output_type": "execute_result"
    }
   ],
   "source": [
    "merged_df.head()"
   ]
  },
  {
   "cell_type": "code",
   "execution_count": 15,
   "metadata": {},
   "outputs": [],
   "source": [
    "os.chdir(\"/Users/chloemaine/Documents/Chloe/BGSE/masters_project/processed_data\")\n",
    "merged_df.to_csv('patient_details_idealicu.csv', index=False)"
   ]
  },
  {
   "cell_type": "code",
   "execution_count": 16,
   "metadata": {},
   "outputs": [
    {
     "data": {
      "text/plain": [
       "Index(['subject_id', 'hadm_id', 'icustay_id', 'gender', 'dod', 'admittime',\n",
       "       'dischtime', 'los_hospital', 'age', 'ethnicity', 'ethnicity_grouped',\n",
       "       'admission_type', 'hospital_expire_flag', 'hospstay_seq',\n",
       "       'first_hosp_stay', 'intime', 'outtime', 'los_icu', 'icustay_seq',\n",
       "       'first_icu_stay', 'SUBJECT_ID', 'HADM_ID', 'CURR_SERVICE',\n",
       "       'PREV_SERVICE', 'LAST_CAREUNIT', 'FIRST_WARDID', 'LAST_WARDID', 'LOS',\n",
       "       'ICUSTAY_ID', 'FIRST_CAREUNIT', 'best_ICU', 'match_ICU', 'ideal_ICU'],\n",
       "      dtype='object')"
      ]
     },
     "execution_count": 16,
     "metadata": {},
     "output_type": "execute_result"
    }
   ],
   "source": [
    "merged_df.columns"
   ]
  },
  {
   "cell_type": "markdown",
   "metadata": {},
   "source": [
    "# Investigate change in services after ideal ICU calculated"
   ]
  },
  {
   "cell_type": "code",
   "execution_count": 17,
   "metadata": {},
   "outputs": [],
   "source": [
    "icu_list = ['NICU', 'MICU', 'CSRU', 'CCU', 'SICU', 'TSICU']\n",
    "\n",
    "iresults = []\n",
    "for icu in icu_list:\n",
    "    iresults.append(merged_df.loc[merged_df.loc[:,'ideal_ICU']== icu, ].groupby('CURR_SERVICE').icustay_id.count())"
   ]
  },
  {
   "cell_type": "code",
   "execution_count": 18,
   "metadata": {},
   "outputs": [],
   "source": [
    "all_results = pd.DataFrame()\n",
    "i = 0\n",
    "for n, icu in enumerate(icu_list):\n",
    "    for idx, df in [['original_ICU', results], ['ideal_ICU', iresults]]:\n",
    "        for ser in df[n].index:\n",
    "            all_results.loc[i, 'number'] = df[n].loc[ser]\n",
    "            all_results.loc[i, 'icu'] = icu \n",
    "            all_results.loc[i, 'ser'] = ser\n",
    "            all_results.loc[i, 'type'] = idx\n",
    "            i+=1"
   ]
  },
  {
   "cell_type": "code",
   "execution_count": 19,
   "metadata": {},
   "outputs": [
    {
     "data": {
      "text/plain": [
       "array(['NB', 'NBB', 'CMED', 'CSURG', 'ENT', 'GU', 'GYN', 'MED', 'NMED',\n",
       "       'NSURG', 'OBS', 'OMED', 'ORTHO', 'PSURG', 'SURG', 'TRAUM', 'TSURG',\n",
       "       'VSURG', 'DENT'], dtype=object)"
      ]
     },
     "execution_count": 19,
     "metadata": {},
     "output_type": "execute_result"
    }
   ],
   "source": [
    "all_results.ser.unique()"
   ]
  },
  {
   "cell_type": "code",
   "execution_count": 20,
   "metadata": {},
   "outputs": [
    {
     "data": {
      "image/png": "[encoded data removed]",
      "text/plain": [
       "<Figure size 959.75x648 with 6 Axes>"
      ]
     },
     "metadata": {
      "needs_background": "light"
     },
     "output_type": "display_data"
    }
   ],
   "source": [
    "import seaborn as sns\n",
    "g = sns.catplot(x=\"ser\", y=\"number\", hue=\"type\", data=all_results,\n",
    "                kind=\"bar\", palette=\"muted\", ci = None,\n",
    "                col = \"icu\", col_wrap = 2, sharey = False, sharex = False, \n",
    "               legend_out = True,  height=3, aspect=2)\n",
    "\n",
    "g.set_ylabels(\"Number of Patients\", size = 12)\n",
    "g.set_xlabels(\"Service under which patient admitted\", size = 12)\n",
    "g.set_titles(\"{col_name}\", size =12)\n",
    "\n",
    "g.set_xticklabels(all_results.ser.unique(), rotation=45, size = 8)\n",
    "\n",
    "plt.tight_layout()\n",
    "plt.show()\n",
    "\n",
    "\n",
    "os.chdir(\"/Users/chloemaine/Documents/Chloe/BGSE/masters_project/graphs\")\n",
    "g.savefig('admitted_services.png', dpi=100)"
   ]
  },
  {
   "cell_type": "code",
   "execution_count": 21,
   "metadata": {},
   "outputs": [
    {
     "name": "stdout",
     "output_type": "stream",
     "text": [
      "NICU\n",
      "Original 8081\n",
      "Ideal 8081\n",
      "Difference 0\n",
      "MICU\n",
      "Original 21006\n",
      "Ideal 26065\n",
      "Difference 5059\n",
      "CSRU\n",
      "Original 9201\n",
      "Ideal 5069\n",
      "Difference -4132\n",
      "CCU\n",
      "Original 7679\n",
      "Ideal 7937\n",
      "Difference 258\n",
      "SICU\n",
      "Original 8864\n",
      "Ideal 6939\n",
      "Difference -1925\n",
      "TSICU\n",
      "Original 6407\n",
      "Ideal 7147\n",
      "Difference 740\n"
     ]
    }
   ],
   "source": [
    "for icu in range(0, len(results)):\n",
    "    print(icu_list[icu])\n",
    "    print('Original', sum(results[icu]))\n",
    "    print('Ideal',  sum(iresults[icu]))\n",
    "    print('Difference',  sum(iresults[icu]) - sum(results[icu]))"
   ]
  },
  {
   "cell_type": "code",
   "execution_count": 22,
   "metadata": {},
   "outputs": [
    {
     "data": {
      "text/plain": [
       "Index(['subject_id', 'hadm_id', 'icustay_id', 'gender', 'dod', 'admittime',\n",
       "       'dischtime', 'los_hospital', 'age', 'ethnicity', 'ethnicity_grouped',\n",
       "       'admission_type', 'hospital_expire_flag', 'hospstay_seq',\n",
       "       'first_hosp_stay', 'intime', 'outtime', 'los_icu', 'icustay_seq',\n",
       "       'first_icu_stay', 'SUBJECT_ID', 'HADM_ID', 'CURR_SERVICE',\n",
       "       'PREV_SERVICE', 'LAST_CAREUNIT', 'FIRST_WARDID', 'LAST_WARDID', 'LOS',\n",
       "       'ICUSTAY_ID', 'FIRST_CAREUNIT', 'best_ICU', 'match_ICU', 'ideal_ICU'],\n",
       "      dtype='object')"
      ]
     },
     "execution_count": 22,
     "metadata": {},
     "output_type": "execute_result"
    }
   ],
   "source": [
    "merged_df.columns"
   ]
  },
  {
   "cell_type": "code",
   "execution_count": 23,
   "metadata": {},
   "outputs": [
    {
     "name": "stdout",
     "output_type": "stream",
     "text": [
      "NICU admission_type\n",
      "ELECTIVE        2\n",
      "EMERGENCY     198\n",
      "NEWBORN      7859\n",
      "URGENT         22\n",
      "Name: icustay_id, dtype: int64\n",
      "NICU admission_type\n",
      "ELECTIVE     0.000247\n",
      "EMERGENCY    0.024502\n",
      "NEWBORN      0.972528\n",
      "URGENT       0.002722\n",
      "Name: icustay_id, dtype: float64\n",
      "MICU admission_type\n",
      "ELECTIVE       886\n",
      "EMERGENCY    19694\n",
      "URGENT         426\n",
      "Name: icustay_id, dtype: int64\n",
      "MICU admission_type\n",
      "ELECTIVE     0.042178\n",
      "EMERGENCY    0.937542\n",
      "URGENT       0.020280\n",
      "Name: icustay_id, dtype: float64\n",
      "CSRU admission_type\n",
      "ELECTIVE     3908\n",
      "EMERGENCY    4940\n",
      "URGENT        353\n",
      "Name: icustay_id, dtype: int64\n",
      "CSRU admission_type\n",
      "ELECTIVE     0.424736\n",
      "EMERGENCY    0.536898\n",
      "URGENT       0.038365\n",
      "Name: icustay_id, dtype: float64\n",
      "CCU admission_type\n",
      "ELECTIVE      384\n",
      "EMERGENCY    6930\n",
      "URGENT        365\n",
      "Name: icustay_id, dtype: int64\n",
      "CCU admission_type\n",
      "ELECTIVE     0.050007\n",
      "EMERGENCY    0.902461\n",
      "URGENT       0.047532\n",
      "Name: icustay_id, dtype: float64\n",
      "SICU admission_type\n",
      "ELECTIVE     1511\n",
      "EMERGENCY    7159\n",
      "URGENT        194\n",
      "Name: icustay_id, dtype: int64\n",
      "SICU admission_type\n",
      "ELECTIVE     0.170465\n",
      "EMERGENCY    0.807649\n",
      "URGENT       0.021886\n",
      "Name: icustay_id, dtype: float64\n",
      "TSICU admission_type\n",
      "ELECTIVE      737\n",
      "EMERGENCY    5627\n",
      "URGENT         43\n",
      "Name: icustay_id, dtype: int64\n",
      "TSICU admission_type\n",
      "ELECTIVE     0.115030\n",
      "EMERGENCY    0.878258\n",
      "URGENT       0.006711\n",
      "Name: icustay_id, dtype: float64\n"
     ]
    }
   ],
   "source": [
    "for icu in icu_list:\n",
    "    print(icu, merged_df.loc[merged_df.loc[:, 'FIRST_CAREUNIT'] == icu, ].groupby('admission_type').icustay_id.count())\n",
    "    print(icu, merged_df.loc[merged_df.loc[:, 'FIRST_CAREUNIT'] == icu, ].groupby('admission_type').icustay_id.count()/sum(merged_df.loc[merged_df.loc[:, 'FIRST_CAREUNIT'] == icu, ].groupby('admission_type').icustay_id.count()))"
   ]
  },
  {
   "cell_type": "code",
   "execution_count": null,
   "metadata": {},
   "outputs": [],
   "source": []
  },
  {
   "cell_type": "markdown",
   "metadata": {},
   "source": [
    "# Compare distribution of boarding and non-boarding patients"
   ]
  },
  {
   "cell_type": "code",
   "execution_count": 24,
   "metadata": {},
   "outputs": [
    {
     "name": "stdout",
     "output_type": "stream",
     "text": [
      "Number of patients in original ICUs 61238.0\n",
      "Number of patients assigned ideal ICU 61238.0\n"
     ]
    }
   ],
   "source": [
    "print(\"Number of \n",
    "      patients in original ICUs\", all_results.loc[all_results.loc[:, 'type']=='original_ICU'].number.sum())\n",
    "print(\"Number of patients assigned ideal ICU\", all_results.loc[all_results.loc[:, 'type']=='ideal_ICU'].number.sum())"
   ]
  },
  {
   "cell_type": "code",
   "execution_count": 24,
   "metadata": {},
   "outputs": [],
   "source": [
    "non_matchers = merged_df.loc[merged_df.loc[:, 'ideal_ICU'] != merged_df.loc[:, 'FIRST_CAREUNIT'],].loc[:, ['los_hospital', 'age', 'hospital_expire_flag', 'los_icu', 'LOS']]\n",
    "matchers = merged_df.loc[merged_df.loc[:, 'ideal_ICU'] == merged_df.loc[:, 'FIRST_CAREUNIT'],].loc[:, ['los_hospital', 'age', 'hospital_expire_flag', 'los_icu', 'LOS']]"
   ]
  },
  {
   "cell_type": "code",
   "execution_count": 25,
   "metadata": {},
   "outputs": [
    {
     "data": {
      "text/plain": [
       "pandas.core.series.Series"
      ]
     },
     "execution_count": 25,
     "metadata": {},
     "output_type": "execute_result"
    }
   ],
   "source": [
    "type(non_matchers.los_icu.fillna(0))"
   ]
  },
  {
   "cell_type": "code",
   "execution_count": 26,
   "metadata": {},
   "outputs": [
    {
     "data": {
      "image/png": "[encoded data removed]",
      "text/plain": [
       "<Figure size 1080x576 with 4 Axes>"
      ]
     },
     "metadata": {
      "needs_background": "light"
     },
     "output_type": "display_data"
    }
   ],
   "source": [
    "f, axes = plt.subplots(2, 2, figsize=(15, 8), sharex=False, sharey = False)\n",
    "\n",
    "sns.distplot(matchers.los_hospital,  label=\"Matching ICU\", kde = True, ax = axes[0,0]).set(xlim=(0,80), title = \"Hospital LOS\",)\n",
    "sns.distplot(non_matchers.los_hospital, label=\"Non- matching ICU\", kde = True,  ax = axes[0,0]).set(xlim=(0,80), xlabel = 'Length of Stay', ylabel = 'PDF: Number of Patients')\n",
    "\n",
    "sns.distplot(matchers.los_icu.fillna(0), label=\"Matching ICU\", kde = True, ax = axes[0,1]).set(xlim=(0,40), xlabel = 'Length of Stay', ylabel = 'PDF: Number of Patients',  title = \"ICU LOS\")\n",
    "sns.distplot(non_matchers.los_icu.fillna(0), label=\"Non- matching ICU\", kde = True,  ax = axes[0,1]).set(xlim=(0,40), xlabel = 'Length of Stay', ylabel = 'Number of Patients')\n",
    "\n",
    "sns.distplot(matchers.hospital_expire_flag.fillna(0), kde = False, norm_hist = True,  bins =2, label=\"Matching ICU\", ax = axes[1,0]).set(xlabel = 'Hospital Expire Flag Frequency',   title = \"Hospital Expire Flag\")\n",
    "sns.distplot(non_matchers.hospital_expire_flag.fillna(0), kde = False, norm_hist = True, bins = 2, label=\"Non- matching ICU\",  ax = axes[1,0]).set( xlabel = 'Hospital Expire Flag Frequency', ylabel = 'Normalised Count', xticks = [0,1])\n",
    "\n",
    "plt.axis('off')\n",
    "\n",
    "from matplotlib.lines import Line2D\n",
    "custom_lines = [Line2D([0], [0], color='orange', lw=4),\n",
    "                Line2D([0], [0], color='lightblue', lw=4)]\n",
    "\n",
    "plt.legend(custom_lines, ['Matched', 'Non-matched'], loc = 'upper left')\n",
    "plt.tight_layout(pad = 3)\n",
    "sns.despine(right =True, top = True)\n",
    "\n",
    "f.savefig('matched_vs_unmatched_losdists.png', dpi=100)"
   ]
  },
  {
   "cell_type": "code",
   "execution_count": 27,
   "metadata": {},
   "outputs": [
    {
     "data": {
      "text/plain": [
       "Ks_2sampResult(statistic=0.16, pvalue=0.0009055129810100997)"
      ]
     },
     "execution_count": 27,
     "metadata": {},
     "output_type": "execute_result"
    }
   ],
   "source": [
    "# K-S Statistic for LOS hospital\n",
    "\n",
    "A = matchers.groupby('los_hospital').LOS.count()\n",
    "resA = []\n",
    "for a in range(0, 300):\n",
    "    if a in A.index:\n",
    "        resA.append(A[a])\n",
    "    else: \n",
    "        resA.append(0)\n",
    "        \n",
    "B = non_matchers.groupby('los_hospital').LOS.count()\n",
    "resB = []\n",
    "for b in range(0, 300):\n",
    "    if b in B.index:\n",
    "        resB.append(B[b])\n",
    "    else: \n",
    "        resB.append(0)\n",
    "        \n",
    "        \n",
    "ks_2samp(data1= np.array(resA), data2 =np.array(resB),\n",
    "         alternative = 'two-sided')"
   ]
  },
  {
   "cell_type": "code",
   "execution_count": 28,
   "metadata": {},
   "outputs": [
    {
     "data": {
      "text/plain": [
       "Ks_2sampResult(statistic=0.2633333333333333, pvalue=1.4942294797261553e-09)"
      ]
     },
     "execution_count": 28,
     "metadata": {},
     "output_type": "execute_result"
    }
   ],
   "source": [
    "# K-S Statistic for LOS ICU\n",
    "\n",
    "A = matchers.groupby('los_icu').LOS.count()\n",
    "resA = []\n",
    "for a in range(0, 300):\n",
    "    if a in A.index:\n",
    "        resA.append(A[a])\n",
    "    else: \n",
    "        resA.append(0)\n",
    "        \n",
    "B = non_matchers.groupby('los_icu').LOS.count()\n",
    "resB = []\n",
    "for b in range(0, 300):\n",
    "    if b in B.index:\n",
    "        resB.append(B[b])\n",
    "    else: \n",
    "        resB.append(0)\n",
    "        \n",
    "        \n",
    "ks_2samp(data1= np.array(resB), data2 =np.array(resA),\n",
    "         alternative = 'two-sided')"
   ]
  },
  {
   "cell_type": "markdown",
   "metadata": {},
   "source": [
    "# Scenario modelling"
   ]
  },
  {
   "cell_type": "code",
   "execution_count": 31,
   "metadata": {},
   "outputs": [
    {
     "name": "stdout",
     "output_type": "stream",
     "text": [
      "Over 75 (17143, 33)\n",
      "Under 75 (44389, 33)\n"
     ]
    }
   ],
   "source": [
    "print('Over 75', merged_df.loc[merged_df.loc[:, 'age'] >= 75, :].shape)\n",
    "print('Under 75', merged_df.loc[merged_df.loc[:, 'age'] < 75, :].shape)"
   ]
  },
  {
   "cell_type": "code",
   "execution_count": 56,
   "metadata": {},
   "outputs": [],
   "source": [
    "# From literature\n",
    "over75_effect = 0.16\n",
    "under75_effect = 0.04\n",
    "# From dataframe\n",
    "num_days = 4170\n",
    "icus = ['CCU', 'CSRU', 'NICU', 'MICU', 'TSICU', 'SICU']\n",
    "\n",
    "# Initialise results\n",
    "res = np.zeros([len(icus), 3])\n",
    "\n",
    "for i, icu in enumerate(icus):\n",
    "    # Over 75s\n",
    "    df = merged_df.loc[merged_df.loc[:, 'age'] >= 75, :]\n",
    "    df = df.loc[df.loc[:, 'ideal_ICU'] == icu, :]\n",
    "    res[i][0] = df.shape[0]\n",
    "    \n",
    "    # Under 75s\n",
    "    df = merged_df.loc[merged_df.loc[:, 'age'] < 75, :]\n",
    "    df = df.loc[df.loc[:, 'ideal_ICU'] == icu, :]\n",
    "    res[i][1] = df.shape[0]\n",
    "    \n",
    "    # LOS per ICU\n",
    "    icu_df =  merged_df.loc[merged_df.loc[:, 'ideal_ICU'] == icu, :]\n",
    "    res[i][2] = np.mean(icu_df.LOS)\n",
    " \n",
    "# Format dataframe\n",
    "res = pd.DataFrame(res)\n",
    "res.columns = ['over75', 'under75', 'LOS']\n",
    "res.index = icus\n",
    "\n",
    "# Convert from patient counts per day to additional patients admitted per day\n",
    "res.over75 = (res.over75/num_days) * over75_effect\n",
    "res.under75 = (res.under75/num_days) * under75_effect\n",
    "res.loc[:, 'total'] = np.sum(res, axis = 1) - res.LOS\n",
    "\n",
    "os.chdir(\"/Users/chloemaine/Documents/Chloe/BGSE/masters_project/processed_data\")\n",
    "res.to_csv('add_ads.csv', index=False)"
   ]
  },
  {
   "cell_type": "code",
   "execution_count": 57,
   "metadata": {},
   "outputs": [
    {
     "data": {
      "text/html": [
       "<div>\n",
       "<style scoped>\n",
       "    .dataframe tbody tr th:only-of-type {\n",
       "        vertical-align: middle;\n",
       "    }\n",
       "\n",
       "    .dataframe tbody tr th {\n",
       "        vertical-align: top;\n",
       "    }\n",
       "\n",
       "    .dataframe thead th {\n",
       "        text-align: right;\n",
       "    }\n",
       "</style>\n",
       "<table border=\"1\" class=\"dataframe\">\n",
       "  <thead>\n",
       "    <tr style=\"text-align: right;\">\n",
       "      <th></th>\n",
       "      <th>over75</th>\n",
       "      <th>under75</th>\n",
       "      <th>LOS</th>\n",
       "      <th>total</th>\n",
       "    </tr>\n",
       "  </thead>\n",
       "  <tbody>\n",
       "    <tr>\n",
       "      <td>CCU</td>\n",
       "      <td>0.121746</td>\n",
       "      <td>0.045698</td>\n",
       "      <td>3.706869</td>\n",
       "      <td>0.167444</td>\n",
       "    </tr>\n",
       "    <tr>\n",
       "      <td>CSRU</td>\n",
       "      <td>0.056978</td>\n",
       "      <td>0.034379</td>\n",
       "      <td>3.636968</td>\n",
       "      <td>0.091357</td>\n",
       "    </tr>\n",
       "    <tr>\n",
       "      <td>NICU</td>\n",
       "      <td>0.000000</td>\n",
       "      <td>0.077516</td>\n",
       "      <td>10.011210</td>\n",
       "      <td>0.077516</td>\n",
       "    </tr>\n",
       "    <tr>\n",
       "      <td>MICU</td>\n",
       "      <td>0.328978</td>\n",
       "      <td>0.167779</td>\n",
       "      <td>4.031040</td>\n",
       "      <td>0.496758</td>\n",
       "    </tr>\n",
       "    <tr>\n",
       "      <td>TSICU</td>\n",
       "      <td>0.073823</td>\n",
       "      <td>0.050101</td>\n",
       "      <td>4.637214</td>\n",
       "      <td>0.123923</td>\n",
       "    </tr>\n",
       "    <tr>\n",
       "      <td>SICU</td>\n",
       "      <td>0.073516</td>\n",
       "      <td>0.048182</td>\n",
       "      <td>4.895090</td>\n",
       "      <td>0.121698</td>\n",
       "    </tr>\n",
       "  </tbody>\n",
       "</table>\n",
       "</div>"
      ],
      "text/plain": [
       "         over75   under75        LOS     total\n",
       "CCU    0.121746  0.045698   3.706869  0.167444\n",
       "CSRU   0.056978  0.034379   3.636968  0.091357\n",
       "NICU   0.000000  0.077516  10.011210  0.077516\n",
       "MICU   0.328978  0.167779   4.031040  0.496758\n",
       "TSICU  0.073823  0.050101   4.637214  0.123923\n",
       "SICU   0.073516  0.048182   4.895090  0.121698"
      ]
     },
     "execution_count": 57,
     "metadata": {},
     "output_type": "execute_result"
    }
   ],
   "source": [
    "res"
   ]
  }
 ],
 "metadata": {
  "kernelspec": {
   "display_name": "Python 3",
   "language": "python",
   "name": "python3"
  },
  "language_info": {
   "codemirror_mode": {
    "name": "ipython",
    "version": 3
   },
   "file_extension": ".py",
   "mimetype": "text/x-python",
   "name": "python",
   "nbconvert_exporter": "python",
   "pygments_lexer": "ipython3",
   "version": "3.7.2"
  }
 },
 "nbformat": 4,
 "nbformat_minor": 2
}
